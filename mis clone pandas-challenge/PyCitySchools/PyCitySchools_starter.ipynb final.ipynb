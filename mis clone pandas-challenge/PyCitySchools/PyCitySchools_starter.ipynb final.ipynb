{
 "cells": [
  {
   "cell_type": "markdown",
   "metadata": {},
   "source": [
    "# PyCity Schools Analysis\n",
    "\n",
    "- Your analysis here\n",
    "  \n",
    "---"
   ]
  },
  {
   "cell_type": "code",
   "execution_count": 1,
   "metadata": {},
   "outputs": [
    {
     "data": {
      "text/html": [
       "<div>\n",
       "<style scoped>\n",
       "    .dataframe tbody tr th:only-of-type {\n",
       "        vertical-align: middle;\n",
       "    }\n",
       "\n",
       "    .dataframe tbody tr th {\n",
       "        vertical-align: top;\n",
       "    }\n",
       "\n",
       "    .dataframe thead th {\n",
       "        text-align: right;\n",
       "    }\n",
       "</style>\n",
       "<table border=\"1\" class=\"dataframe\">\n",
       "  <thead>\n",
       "    <tr style=\"text-align: right;\">\n",
       "      <th></th>\n",
       "      <th>Student ID</th>\n",
       "      <th>student_name</th>\n",
       "      <th>gender</th>\n",
       "      <th>grade</th>\n",
       "      <th>school_name</th>\n",
       "      <th>reading_score</th>\n",
       "      <th>math_score</th>\n",
       "      <th>School ID</th>\n",
       "      <th>type</th>\n",
       "      <th>size</th>\n",
       "      <th>budget</th>\n",
       "    </tr>\n",
       "  </thead>\n",
       "  <tbody>\n",
       "    <tr>\n",
       "      <th>0</th>\n",
       "      <td>0</td>\n",
       "      <td>Paul Bradley</td>\n",
       "      <td>M</td>\n",
       "      <td>9th</td>\n",
       "      <td>Huang High School</td>\n",
       "      <td>66</td>\n",
       "      <td>79</td>\n",
       "      <td>0</td>\n",
       "      <td>District</td>\n",
       "      <td>2917</td>\n",
       "      <td>1910635</td>\n",
       "    </tr>\n",
       "    <tr>\n",
       "      <th>1</th>\n",
       "      <td>1</td>\n",
       "      <td>Victor Smith</td>\n",
       "      <td>M</td>\n",
       "      <td>12th</td>\n",
       "      <td>Huang High School</td>\n",
       "      <td>94</td>\n",
       "      <td>61</td>\n",
       "      <td>0</td>\n",
       "      <td>District</td>\n",
       "      <td>2917</td>\n",
       "      <td>1910635</td>\n",
       "    </tr>\n",
       "    <tr>\n",
       "      <th>2</th>\n",
       "      <td>2</td>\n",
       "      <td>Kevin Rodriguez</td>\n",
       "      <td>M</td>\n",
       "      <td>12th</td>\n",
       "      <td>Huang High School</td>\n",
       "      <td>90</td>\n",
       "      <td>60</td>\n",
       "      <td>0</td>\n",
       "      <td>District</td>\n",
       "      <td>2917</td>\n",
       "      <td>1910635</td>\n",
       "    </tr>\n",
       "    <tr>\n",
       "      <th>3</th>\n",
       "      <td>3</td>\n",
       "      <td>Dr. Richard Scott</td>\n",
       "      <td>M</td>\n",
       "      <td>12th</td>\n",
       "      <td>Huang High School</td>\n",
       "      <td>67</td>\n",
       "      <td>58</td>\n",
       "      <td>0</td>\n",
       "      <td>District</td>\n",
       "      <td>2917</td>\n",
       "      <td>1910635</td>\n",
       "    </tr>\n",
       "    <tr>\n",
       "      <th>4</th>\n",
       "      <td>4</td>\n",
       "      <td>Bonnie Ray</td>\n",
       "      <td>F</td>\n",
       "      <td>9th</td>\n",
       "      <td>Huang High School</td>\n",
       "      <td>97</td>\n",
       "      <td>84</td>\n",
       "      <td>0</td>\n",
       "      <td>District</td>\n",
       "      <td>2917</td>\n",
       "      <td>1910635</td>\n",
       "    </tr>\n",
       "  </tbody>\n",
       "</table>\n",
       "</div>"
      ],
      "text/plain": [
       "   Student ID       student_name gender grade        school_name  \\\n",
       "0           0       Paul Bradley      M   9th  Huang High School   \n",
       "1           1       Victor Smith      M  12th  Huang High School   \n",
       "2           2    Kevin Rodriguez      M  12th  Huang High School   \n",
       "3           3  Dr. Richard Scott      M  12th  Huang High School   \n",
       "4           4         Bonnie Ray      F   9th  Huang High School   \n",
       "\n",
       "   reading_score  math_score  School ID      type  size   budget  \n",
       "0             66          79          0  District  2917  1910635  \n",
       "1             94          61          0  District  2917  1910635  \n",
       "2             90          60          0  District  2917  1910635  \n",
       "3             67          58          0  District  2917  1910635  \n",
       "4             97          84          0  District  2917  1910635  "
      ]
     },
     "execution_count": 1,
     "metadata": {},
     "output_type": "execute_result"
    }
   ],
   "source": [
    "# Dependencies and Setup\n",
    "import pandas as pd\n",
    "from pathlib import Path\n",
    "\n",
    "# File to Load (Remember to Change These)\n",
    "school_data_to_load = Path(\"Resources/schools_complete.csv\")\n",
    "student_data_to_load = Path(\"Resources/students_complete.csv\")\n",
    "\n",
    "# Read School and Student Data File and store into Pandas DataFrames\n",
    "school_data = pd.read_csv(school_data_to_load)\n",
    "student_data = pd.read_csv(student_data_to_load)\n",
    "\n",
    "# Combine the data into a single dataset.  \n",
    "school_data_complete = pd.merge(student_data, school_data, how=\"left\", on=[\"school_name\", \"school_name\"])\n",
    "school_data_complete.head()"
   ]
  },
  {
   "cell_type": "markdown",
   "metadata": {},
   "source": [
    "## District Summary"
   ]
  },
  {
   "cell_type": "code",
   "execution_count": 2,
   "metadata": {},
   "outputs": [
    {
     "data": {
      "text/plain": [
       "15"
      ]
     },
     "execution_count": 2,
     "metadata": {},
     "output_type": "execute_result"
    }
   ],
   "source": [
    "# Calculate the total number of unique schools\n",
    "school_count = len(school_data_complete[\"school_name\"].unique())\n",
    "school_count"
   ]
  },
  {
   "cell_type": "code",
   "execution_count": 3,
   "metadata": {},
   "outputs": [
    {
     "data": {
      "text/plain": [
       "39170"
      ]
     },
     "execution_count": 3,
     "metadata": {},
     "output_type": "execute_result"
    }
   ],
   "source": [
    "# Calculate the total number of students\n",
    "student_count = school_data_complete[\"Student ID\"].count()\n",
    "student_count"
   ]
  },
  {
   "cell_type": "code",
   "execution_count": 4,
   "metadata": {},
   "outputs": [
    {
     "data": {
      "text/plain": [
       "24649428"
      ]
     },
     "execution_count": 4,
     "metadata": {},
     "output_type": "execute_result"
    }
   ],
   "source": [
    "# Calculate the total budget\n",
    "total_budget = school_data[\"budget\"].sum()\n",
    "total_budget"
   ]
  },
  {
   "cell_type": "code",
   "execution_count": 5,
   "metadata": {},
   "outputs": [
    {
     "data": {
      "text/plain": [
       "78.98537145774827"
      ]
     },
     "execution_count": 5,
     "metadata": {},
     "output_type": "execute_result"
    }
   ],
   "source": [
    "# Calculate the average (mean) math score\n",
    "average_math_score = school_data_complete[\"math_score\"].mean()\n",
    "average_math_score"
   ]
  },
  {
   "cell_type": "code",
   "execution_count": 6,
   "metadata": {},
   "outputs": [
    {
     "data": {
      "text/plain": [
       "81.87784018381414"
      ]
     },
     "execution_count": 6,
     "metadata": {},
     "output_type": "execute_result"
    }
   ],
   "source": [
    "# Calculate the average (mean) reading score\n",
    "average_reading_score = school_data_complete[\"reading_score\"].mean()\n",
    "average_reading_score"
   ]
  },
  {
   "cell_type": "code",
   "execution_count": 7,
   "metadata": {},
   "outputs": [
    {
     "data": {
      "text/plain": [
       "74.9808526933878"
      ]
     },
     "execution_count": 7,
     "metadata": {},
     "output_type": "execute_result"
    }
   ],
   "source": [
    "# Use the following to calculate the percentage of students who passed math (math scores greather than or equal to 70)\n",
    "passing_math_count = school_data_complete[(school_data_complete[\"math_score\"] >= 70)].count()[\"student_name\"]\n",
    "passing_math_percentage = passing_math_count / float(student_count) * 100\n",
    "passing_math_percentage"
   ]
  },
  {
   "cell_type": "code",
   "execution_count": 8,
   "metadata": {},
   "outputs": [],
   "source": [
    "# Calculate the percentage of students who passed reading (hint: look at how the math percentage was calculated)  \n",
    "passing_reading_count = school_data_complete[(school_data_complete[\"reading_score\"] >= 70)].count()[\"student_name\"]\n",
    "passing_reading_percentage = passing_reading_count / float(student_count) * 100"
   ]
  },
  {
   "cell_type": "code",
   "execution_count": 9,
   "metadata": {},
   "outputs": [
    {
     "data": {
      "text/plain": [
       "65.17232575950983"
      ]
     },
     "execution_count": 9,
     "metadata": {},
     "output_type": "execute_result"
    }
   ],
   "source": [
    "# Use the following to calculate the percentage of students that passed math and reading\n",
    "passing_math_reading_count = school_data_complete[\n",
    "    (school_data_complete[\"math_score\"] >= 70) & (school_data_complete[\"reading_score\"] >= 70)\n",
    "].count()[\"student_name\"]\n",
    "overall_passing_rate = passing_math_reading_count /  float(student_count) * 100\n",
    "overall_passing_rate"
   ]
  },
  {
   "cell_type": "code",
   "execution_count": 10,
   "metadata": {},
   "outputs": [
    {
     "name": "stdout",
     "output_type": "stream",
     "text": [
      "(1, 8)\n"
     ]
    },
    {
     "data": {
      "text/html": [
       "<div>\n",
       "<style scoped>\n",
       "    .dataframe tbody tr th:only-of-type {\n",
       "        vertical-align: middle;\n",
       "    }\n",
       "\n",
       "    .dataframe tbody tr th {\n",
       "        vertical-align: top;\n",
       "    }\n",
       "\n",
       "    .dataframe thead th {\n",
       "        text-align: right;\n",
       "    }\n",
       "</style>\n",
       "<table border=\"1\" class=\"dataframe\">\n",
       "  <thead>\n",
       "    <tr style=\"text-align: right;\">\n",
       "      <th></th>\n",
       "      <th>Total Schools</th>\n",
       "      <th>Total Students</th>\n",
       "      <th>Total School Budget</th>\n",
       "      <th>Average Math Score</th>\n",
       "      <th>Average Reading Score</th>\n",
       "      <th>% Students Passing Math</th>\n",
       "      <th>% Students Passing Reading</th>\n",
       "      <th>% Students Passing Both Math &amp; Reading</th>\n",
       "    </tr>\n",
       "  </thead>\n",
       "  <tbody>\n",
       "    <tr>\n",
       "      <th>0</th>\n",
       "      <td>15</td>\n",
       "      <td>39170</td>\n",
       "      <td>24649428</td>\n",
       "      <td>78.985371</td>\n",
       "      <td>81.87784</td>\n",
       "      <td>74.980853</td>\n",
       "      <td>85.805463</td>\n",
       "      <td>65.172326</td>\n",
       "    </tr>\n",
       "  </tbody>\n",
       "</table>\n",
       "</div>"
      ],
      "text/plain": [
       "   Total Schools  Total Students  Total School Budget  Average Math Score  \\\n",
       "0             15           39170             24649428           78.985371   \n",
       "\n",
       "   Average Reading Score  % Students Passing Math  % Students Passing Reading  \\\n",
       "0               81.87784                74.980853                   85.805463   \n",
       "\n",
       "   % Students Passing Both Math & Reading  \n",
       "0                               65.172326  "
      ]
     },
     "execution_count": 10,
     "metadata": {},
     "output_type": "execute_result"
    }
   ],
   "source": [
    "# Create a high-level snapshot of the district's key metrics in a DataFrame\n",
    "district_summary = pd.DataFrame({\n",
    "                                \"Total Schools\": [school_count],\n",
    "                                \"Total Students\": [student_count],\n",
    "                                \"Total School Budget\": [total_budget],\n",
    "                                \"Average Math Score\": [average_math_score],\n",
    "                                \"Average Reading Score\": [average_reading_score],\n",
    "                                \"% Students Passing Math\": [passing_math_percentage],\n",
    "                                \"% Students Passing Reading\": [passing_reading_percentage],\n",
    "                                \"% Students Passing Both Math & Reading\": [overall_passing_rate]})\n",
    "print(district_summary.shape)\n",
    "district_summary.head()"
   ]
  },
  {
   "cell_type": "code",
   "execution_count": 11,
   "metadata": {},
   "outputs": [
    {
     "name": "stdout",
     "output_type": "stream",
     "text": [
      "(39170, 11)\n"
     ]
    },
    {
     "data": {
      "text/html": [
       "<div>\n",
       "<style scoped>\n",
       "    .dataframe tbody tr th:only-of-type {\n",
       "        vertical-align: middle;\n",
       "    }\n",
       "\n",
       "    .dataframe tbody tr th {\n",
       "        vertical-align: top;\n",
       "    }\n",
       "\n",
       "    .dataframe thead th {\n",
       "        text-align: right;\n",
       "    }\n",
       "</style>\n",
       "<table border=\"1\" class=\"dataframe\">\n",
       "  <thead>\n",
       "    <tr style=\"text-align: right;\">\n",
       "      <th></th>\n",
       "      <th>Student ID</th>\n",
       "      <th>student_name</th>\n",
       "      <th>gender</th>\n",
       "      <th>grade</th>\n",
       "      <th>school_name</th>\n",
       "      <th>reading_score</th>\n",
       "      <th>math_score</th>\n",
       "      <th>School ID</th>\n",
       "      <th>type</th>\n",
       "      <th>size</th>\n",
       "      <th>budget</th>\n",
       "    </tr>\n",
       "  </thead>\n",
       "  <tbody>\n",
       "    <tr>\n",
       "      <th>0</th>\n",
       "      <td>0</td>\n",
       "      <td>Paul Bradley</td>\n",
       "      <td>M</td>\n",
       "      <td>9th</td>\n",
       "      <td>Huang High School</td>\n",
       "      <td>66</td>\n",
       "      <td>79</td>\n",
       "      <td>0</td>\n",
       "      <td>District</td>\n",
       "      <td>2917</td>\n",
       "      <td>1910635</td>\n",
       "    </tr>\n",
       "    <tr>\n",
       "      <th>1</th>\n",
       "      <td>1</td>\n",
       "      <td>Victor Smith</td>\n",
       "      <td>M</td>\n",
       "      <td>12th</td>\n",
       "      <td>Huang High School</td>\n",
       "      <td>94</td>\n",
       "      <td>61</td>\n",
       "      <td>0</td>\n",
       "      <td>District</td>\n",
       "      <td>2917</td>\n",
       "      <td>1910635</td>\n",
       "    </tr>\n",
       "    <tr>\n",
       "      <th>2</th>\n",
       "      <td>2</td>\n",
       "      <td>Kevin Rodriguez</td>\n",
       "      <td>M</td>\n",
       "      <td>12th</td>\n",
       "      <td>Huang High School</td>\n",
       "      <td>90</td>\n",
       "      <td>60</td>\n",
       "      <td>0</td>\n",
       "      <td>District</td>\n",
       "      <td>2917</td>\n",
       "      <td>1910635</td>\n",
       "    </tr>\n",
       "  </tbody>\n",
       "</table>\n",
       "</div>"
      ],
      "text/plain": [
       "   Student ID     student_name gender grade        school_name  reading_score  \\\n",
       "0           0     Paul Bradley      M   9th  Huang High School             66   \n",
       "1           1     Victor Smith      M  12th  Huang High School             94   \n",
       "2           2  Kevin Rodriguez      M  12th  Huang High School             90   \n",
       "\n",
       "   math_score  School ID      type  size   budget  \n",
       "0          79          0  District  2917  1910635  \n",
       "1          61          0  District  2917  1910635  \n",
       "2          60          0  District  2917  1910635  "
      ]
     },
     "execution_count": 11,
     "metadata": {},
     "output_type": "execute_result"
    }
   ],
   "source": [
    "print(school_data_complete.shape)\n",
    "school_data_complete.head(3)"
   ]
  },
  {
   "cell_type": "markdown",
   "metadata": {},
   "source": [
    "## School Summary"
   ]
  },
  {
   "cell_type": "code",
   "execution_count": 12,
   "metadata": {},
   "outputs": [
    {
     "data": {
      "text/plain": [
       "school_name\n",
       "Bailey High School       District\n",
       "Cabrera High School       Charter\n",
       "Figueroa High School     District\n",
       "Ford High School         District\n",
       "Griffin High School       Charter\n",
       "Hernandez High School    District\n",
       "Holden High School        Charter\n",
       "Huang High School        District\n",
       "Johnson High School      District\n",
       "Pena High School          Charter\n",
       "Rodriguez High School    District\n",
       "Shelton High School       Charter\n",
       "Thomas High School        Charter\n",
       "Wilson High School        Charter\n",
       "Wright High School        Charter\n",
       "Name: type, dtype: object"
      ]
     },
     "execution_count": 12,
     "metadata": {},
     "output_type": "execute_result"
    }
   ],
   "source": [
    "# Use the code provided to select all of the school types\n",
    "school_types = school_data_complete.groupby([\"school_name\"]).max()[\"type\"]\n",
    "school_types"
   ]
  },
  {
   "cell_type": "code",
   "execution_count": 13,
   "metadata": {},
   "outputs": [
    {
     "data": {
      "text/plain": [
       "Bailey High School       4976\n",
       "Johnson High School      4761\n",
       "Hernandez High School    4635\n",
       "Rodriguez High School    3999\n",
       "Figueroa High School     2949\n",
       "Huang High School        2917\n",
       "Ford High School         2739\n",
       "Wilson High School       2283\n",
       "Cabrera High School      1858\n",
       "Wright High School       1800\n",
       "Shelton High School      1761\n",
       "Thomas High School       1635\n",
       "Griffin High School      1468\n",
       "Pena High School          962\n",
       "Holden High School        427\n",
       "Name: school_name, dtype: int64"
      ]
     },
     "execution_count": 13,
     "metadata": {},
     "output_type": "execute_result"
    }
   ],
   "source": [
    "# Calculate the total student count per school\n",
    "school_data_complete[\"school_name\"].value_counts()"
   ]
  },
  {
   "cell_type": "code",
   "execution_count": 14,
   "metadata": {},
   "outputs": [
    {
     "data": {
      "text/plain": [
       "school_name\n",
       "Huang High School     1910635\n",
       "Huang High School     1910635\n",
       "Huang High School     1910635\n",
       "Huang High School     1910635\n",
       "Huang High School     1910635\n",
       "                       ...   \n",
       "Thomas High School    1043130\n",
       "Thomas High School    1043130\n",
       "Thomas High School    1043130\n",
       "Thomas High School    1043130\n",
       "Thomas High School    1043130\n",
       "Name: budget, Length: 39170, dtype: int64"
      ]
     },
     "execution_count": 14,
     "metadata": {},
     "output_type": "execute_result"
    }
   ],
   "source": [
    "# Calculate the total school budget and per capita spending per school\n",
    "per_school_budget = school_data_complete.set_index([\"school_name\"])[\"budget\"]\n",
    "per_school_capita = per_school_budget\n",
    "per_school_capita"
   ]
  },
  {
   "cell_type": "code",
   "execution_count": 15,
   "metadata": {},
   "outputs": [
    {
     "data": {
      "text/plain": [
       "(                       Average Math Score\n",
       " school_name                              \n",
       " Bailey High School              77.048432\n",
       " Cabrera High School             83.061895\n",
       " Figueroa High School            76.711767\n",
       " Ford High School                77.102592\n",
       " Griffin High School             83.351499\n",
       " Hernandez High School           77.289752\n",
       " Holden High School              83.803279\n",
       " Huang High School               76.629414\n",
       " Johnson High School             77.072464\n",
       " Pena High School                83.839917\n",
       " Rodriguez High School           76.842711\n",
       " Shelton High School             83.359455\n",
       " Thomas High School              83.418349\n",
       " Wilson High School              83.274201\n",
       " Wright High School              83.682222,\n",
       "                        Average Reading Score\n",
       " school_name                                 \n",
       " Bailey High School                 81.033963\n",
       " Cabrera High School                83.975780\n",
       " Figueroa High School               81.158020\n",
       " Ford High School                   80.746258\n",
       " Griffin High School                83.816757\n",
       " Hernandez High School              80.934412\n",
       " Holden High School                 83.814988\n",
       " Huang High School                  81.182722\n",
       " Johnson High School                80.966394\n",
       " Pena High School                   84.044699\n",
       " Rodriguez High School              80.744686\n",
       " Shelton High School                83.725724\n",
       " Thomas High School                 83.848930\n",
       " Wilson High School                 83.989488\n",
       " Wright High School                 83.955000)"
      ]
     },
     "execution_count": 15,
     "metadata": {},
     "output_type": "execute_result"
    }
   ],
   "source": [
    "# Calculate the average test scores per school\n",
    "per_school_math = school_data_complete.groupby([\"school_name\"])[\"math_score\"].mean().to_frame(\"Average Math Score\")\n",
    "per_school_reading = school_data_complete.groupby([\"school_name\"])[\"reading_score\"].mean().to_frame(\"Average Reading Score\")\n",
    "per_school_math, per_school_reading"
   ]
  },
  {
   "cell_type": "code",
   "execution_count": 16,
   "metadata": {},
   "outputs": [
    {
     "name": "stdout",
     "output_type": "stream",
     "text": [
      "74.9808526933878\n"
     ]
    }
   ],
   "source": [
    "# Calculate the number of students per school with math scores of 70 or higher\n",
    "students_passing_math = school_data_complete[school_data_complete['math_score']>=70].groupby(['school_name']).size()\n",
    "percent_passing_math = (students_passing_math/student_count)*100\n",
    "print(passing_math_percentage)"
   ]
  },
  {
   "cell_type": "code",
   "execution_count": 17,
   "metadata": {},
   "outputs": [
    {
     "name": "stdout",
     "output_type": "stream",
     "text": [
      "85.80546336482001\n"
     ]
    }
   ],
   "source": [
    "# Calculate the number of students per school with reading scores of 70 or higher\n",
    "students_passing_reading = school_data_complete[school_data_complete['reading_score']>=70].groupby(['school_name'])\n",
    "school_students_passing_reading = ('students_passing_reading/student_count')*100\n",
    "print(passing_reading_percentage)"
   ]
  },
  {
   "cell_type": "code",
   "execution_count": 18,
   "metadata": {},
   "outputs": [],
   "source": [
    "# Use the provided code to calculate the number of students per school that passed both math and reading with scores of 70 or higher\n",
    "students_passing_math_and_reading = school_data_complete[\n",
    "    (school_data_complete[\"reading_score\"] >= 70) & (school_data_complete[\"math_score\"] >= 70)\n",
    "]\n",
    "school_students_passing_math_and_reading = students_passing_math_and_reading.groupby([\"school_name\"]).size()"
   ]
  },
  {
   "cell_type": "code",
   "execution_count": 19,
   "metadata": {},
   "outputs": [
    {
     "data": {
      "text/plain": [
       "'school_students_passing_math_and_reading/school_dataschool_students_passing_math_and_reading/school_dataschool_students_passing_math_and_reading/school_dataschool_students_passing_math_and_reading/school_dataschool_students_passing_math_and_reading/school_dataschool_students_passing_math_and_reading/school_dataschool_students_passing_math_and_reading/school_dataschool_students_passing_math_and_reading/school_dataschool_students_passing_math_and_reading/school_dataschool_students_passing_math_and_reading/school_dataschool_students_passing_math_and_reading/school_dataschool_students_passing_math_and_reading/school_dataschool_students_passing_math_and_reading/school_dataschool_students_passing_math_and_reading/school_dataschool_students_passing_math_and_reading/school_dataschool_students_passing_math_and_reading/school_dataschool_students_passing_math_and_reading/school_dataschool_students_passing_math_and_reading/school_dataschool_students_passing_math_and_reading/school_dataschool_students_passing_math_and_reading/school_dataschool_students_passing_math_and_reading/school_dataschool_students_passing_math_and_reading/school_dataschool_students_passing_math_and_reading/school_dataschool_students_passing_math_and_reading/school_dataschool_students_passing_math_and_reading/school_dataschool_students_passing_math_and_reading/school_dataschool_students_passing_math_and_reading/school_dataschool_students_passing_math_and_reading/school_dataschool_students_passing_math_and_reading/school_dataschool_students_passing_math_and_reading/school_dataschool_students_passing_math_and_reading/school_dataschool_students_passing_math_and_reading/school_dataschool_students_passing_math_and_reading/school_dataschool_students_passing_math_and_reading/school_dataschool_students_passing_math_and_reading/school_dataschool_students_passing_math_and_reading/school_dataschool_students_passing_math_and_reading/school_dataschool_students_passing_math_and_reading/school_dataschool_students_passing_math_and_reading/school_dataschool_students_passing_math_and_reading/school_dataschool_students_passing_math_and_reading/school_dataschool_students_passing_math_and_reading/school_dataschool_students_passing_math_and_reading/school_dataschool_students_passing_math_and_reading/school_dataschool_students_passing_math_and_reading/school_dataschool_students_passing_math_and_reading/school_dataschool_students_passing_math_and_reading/school_dataschool_students_passing_math_and_reading/school_dataschool_students_passing_math_and_reading/school_dataschool_students_passing_math_and_reading/school_dataschool_students_passing_math_and_reading/school_dataschool_students_passing_math_and_reading/school_dataschool_students_passing_math_and_reading/school_dataschool_students_passing_math_and_reading/school_dataschool_students_passing_math_and_reading/school_dataschool_students_passing_math_and_reading/school_dataschool_students_passing_math_and_reading/school_dataschool_students_passing_math_and_reading/school_dataschool_students_passing_math_and_reading/school_dataschool_students_passing_math_and_reading/school_dataschool_students_passing_math_and_reading/school_dataschool_students_passing_math_and_reading/school_dataschool_students_passing_math_and_reading/school_dataschool_students_passing_math_and_reading/school_dataschool_students_passing_math_and_reading/school_dataschool_students_passing_math_and_reading/school_dataschool_students_passing_math_and_reading/school_dataschool_students_passing_math_and_reading/school_dataschool_students_passing_math_and_reading/school_dataschool_students_passing_math_and_reading/school_dataschool_students_passing_math_and_reading/school_dataschool_students_passing_math_and_reading/school_dataschool_students_passing_math_and_reading/school_dataschool_students_passing_math_and_reading/school_dataschool_students_passing_math_and_reading/school_dataschool_students_passing_math_and_reading/school_dataschool_students_passing_math_and_reading/school_dataschool_students_passing_math_and_reading/school_dataschool_students_passing_math_and_reading/school_dataschool_students_passing_math_and_reading/school_dataschool_students_passing_math_and_reading/school_dataschool_students_passing_math_and_reading/school_dataschool_students_passing_math_and_reading/school_dataschool_students_passing_math_and_reading/school_dataschool_students_passing_math_and_reading/school_dataschool_students_passing_math_and_reading/school_dataschool_students_passing_math_and_reading/school_dataschool_students_passing_math_and_reading/school_dataschool_students_passing_math_and_reading/school_dataschool_students_passing_math_and_reading/school_dataschool_students_passing_math_and_reading/school_dataschool_students_passing_math_and_reading/school_dataschool_students_passing_math_and_reading/school_dataschool_students_passing_math_and_reading/school_dataschool_students_passing_math_and_reading/school_dataschool_students_passing_math_and_reading/school_dataschool_students_passing_math_and_reading/school_dataschool_students_passing_math_and_reading/school_dataschool_students_passing_math_and_reading/school_dataschool_students_passing_math_and_reading/school_data'"
      ]
     },
     "execution_count": 19,
     "metadata": {},
     "output_type": "execute_result"
    }
   ],
   "source": [
    "# Use the provided code to calculate the passing rates\n",
    "per_school_students_passing_math = ('students_passing_math/school_data') * 100\n",
    "per_school_students_passing_reading = ('school_students_passing_reading/school_data') * 100\n",
    "overall_passing_rate = ('school_students_passing_math_and_reading/school_data') * 100\n",
    "overall_passing_rate"
   ]
  },
  {
   "cell_type": "code",
   "execution_count": 20,
   "metadata": {},
   "outputs": [
    {
     "data": {
      "text/html": [
       "<div>\n",
       "<style scoped>\n",
       "    .dataframe tbody tr th:only-of-type {\n",
       "        vertical-align: middle;\n",
       "    }\n",
       "\n",
       "    .dataframe tbody tr th {\n",
       "        vertical-align: top;\n",
       "    }\n",
       "\n",
       "    .dataframe thead th {\n",
       "        text-align: right;\n",
       "    }\n",
       "</style>\n",
       "<table border=\"1\" class=\"dataframe\">\n",
       "  <thead>\n",
       "    <tr style=\"text-align: right;\">\n",
       "      <th></th>\n",
       "      <th>Total Schools</th>\n",
       "      <th>Total Students</th>\n",
       "      <th>Total School Budget</th>\n",
       "      <th>Average Math Score</th>\n",
       "      <th>Average Reading Score</th>\n",
       "      <th>% Students Passing Math</th>\n",
       "      <th>% Students Passing Reading</th>\n",
       "      <th>% Students Passing Both Math &amp; Reading</th>\n",
       "    </tr>\n",
       "  </thead>\n",
       "  <tbody>\n",
       "    <tr>\n",
       "      <th>0</th>\n",
       "      <td>15</td>\n",
       "      <td>39170</td>\n",
       "      <td>24649428</td>\n",
       "      <td>78.985371</td>\n",
       "      <td>81.87784</td>\n",
       "      <td>74.980853</td>\n",
       "      <td>85.805463</td>\n",
       "      <td>school_students_passing_math_and_reading/schoo...</td>\n",
       "    </tr>\n",
       "  </tbody>\n",
       "</table>\n",
       "</div>"
      ],
      "text/plain": [
       "   Total Schools  Total Students  Total School Budget  Average Math Score  \\\n",
       "0             15           39170             24649428           78.985371   \n",
       "\n",
       "   Average Reading Score  % Students Passing Math  % Students Passing Reading  \\\n",
       "0               81.87784                74.980853                   85.805463   \n",
       "\n",
       "              % Students Passing Both Math & Reading  \n",
       "0  school_students_passing_math_and_reading/schoo...  "
      ]
     },
     "execution_count": 20,
     "metadata": {},
     "output_type": "execute_result"
    }
   ],
   "source": [
    "# Create a DataFrame called `per_school_summary` with columns for the calculations above.\n",
    "per_school_summary = pd.DataFrame({\n",
    "                                \"Total Schools\": [school_count],\n",
    "                                \"Total Students\": [student_count],\n",
    "                                \"Total School Budget\": [total_budget],\n",
    "                                \"Average Math Score\": [average_math_score],\n",
    "                                \"Average Reading Score\": [average_reading_score],\n",
    "                                \"% Students Passing Math\": [passing_math_percentage],\n",
    "                                \"% Students Passing Reading\": [passing_reading_percentage],\n",
    "                                \"% Students Passing Both Math & Reading\": [overall_passing_rate]})\n",
    "\n",
    "per_school_summary.head(5)"
   ]
  },
  {
   "cell_type": "markdown",
   "metadata": {},
   "source": [
    "## Highest-Performing Schools (by % Overall Passing)"
   ]
  },
  {
   "cell_type": "code",
   "execution_count": 21,
   "metadata": {
    "scrolled": true
   },
   "outputs": [
    {
     "data": {
      "text/html": [
       "<div>\n",
       "<style scoped>\n",
       "    .dataframe tbody tr th:only-of-type {\n",
       "        vertical-align: middle;\n",
       "    }\n",
       "\n",
       "    .dataframe tbody tr th {\n",
       "        vertical-align: top;\n",
       "    }\n",
       "\n",
       "    .dataframe thead th {\n",
       "        text-align: right;\n",
       "    }\n",
       "</style>\n",
       "<table border=\"1\" class=\"dataframe\">\n",
       "  <thead>\n",
       "    <tr style=\"text-align: right;\">\n",
       "      <th></th>\n",
       "      <th>Total Schools</th>\n",
       "      <th>Total Students</th>\n",
       "      <th>Total School Budget</th>\n",
       "      <th>Average Math Score</th>\n",
       "      <th>Average Reading Score</th>\n",
       "      <th>% Students Passing Math</th>\n",
       "      <th>% Students Passing Reading</th>\n",
       "      <th>% Students Passing Both Math &amp; Reading</th>\n",
       "    </tr>\n",
       "  </thead>\n",
       "  <tbody>\n",
       "    <tr>\n",
       "      <th>0</th>\n",
       "      <td>15</td>\n",
       "      <td>39170</td>\n",
       "      <td>24649428</td>\n",
       "      <td>78.985371</td>\n",
       "      <td>81.87784</td>\n",
       "      <td>74.980853</td>\n",
       "      <td>85.805463</td>\n",
       "      <td>school_students_passing_math_and_reading/schoo...</td>\n",
       "    </tr>\n",
       "  </tbody>\n",
       "</table>\n",
       "</div>"
      ],
      "text/plain": [
       "   Total Schools  Total Students  Total School Budget  Average Math Score  \\\n",
       "0             15           39170             24649428           78.985371   \n",
       "\n",
       "   Average Reading Score  % Students Passing Math  % Students Passing Reading  \\\n",
       "0               81.87784                74.980853                   85.805463   \n",
       "\n",
       "              % Students Passing Both Math & Reading  \n",
       "0  school_students_passing_math_and_reading/schoo...  "
      ]
     },
     "execution_count": 21,
     "metadata": {},
     "output_type": "execute_result"
    }
   ],
   "source": [
    "# Sort the schools by `% Overall Passing` in descending order and display the top 5 rows.\n",
    "top_schools = per_school_summary.sort_values('% Students Passing Both Math & Reading', ascending=False).head(5)\n",
    "top_schools\n"
   ]
  },
  {
   "cell_type": "markdown",
   "metadata": {},
   "source": [
    "## Bottom Performing Schools (By % Overall Passing)"
   ]
  },
  {
   "cell_type": "code",
   "execution_count": 22,
   "metadata": {},
   "outputs": [
    {
     "data": {
      "text/html": [
       "<div>\n",
       "<style scoped>\n",
       "    .dataframe tbody tr th:only-of-type {\n",
       "        vertical-align: middle;\n",
       "    }\n",
       "\n",
       "    .dataframe tbody tr th {\n",
       "        vertical-align: top;\n",
       "    }\n",
       "\n",
       "    .dataframe thead th {\n",
       "        text-align: right;\n",
       "    }\n",
       "</style>\n",
       "<table border=\"1\" class=\"dataframe\">\n",
       "  <thead>\n",
       "    <tr style=\"text-align: right;\">\n",
       "      <th></th>\n",
       "      <th>Total Schools</th>\n",
       "      <th>Total Students</th>\n",
       "      <th>Total School Budget</th>\n",
       "      <th>Average Math Score</th>\n",
       "      <th>Average Reading Score</th>\n",
       "      <th>% Students Passing Math</th>\n",
       "      <th>% Students Passing Reading</th>\n",
       "      <th>% Students Passing Both Math &amp; Reading</th>\n",
       "    </tr>\n",
       "  </thead>\n",
       "  <tbody>\n",
       "    <tr>\n",
       "      <th>0</th>\n",
       "      <td>15</td>\n",
       "      <td>39170</td>\n",
       "      <td>24649428</td>\n",
       "      <td>78.985371</td>\n",
       "      <td>81.87784</td>\n",
       "      <td>74.980853</td>\n",
       "      <td>85.805463</td>\n",
       "      <td>school_students_passing_math_and_reading/schoo...</td>\n",
       "    </tr>\n",
       "  </tbody>\n",
       "</table>\n",
       "</div>"
      ],
      "text/plain": [
       "   Total Schools  Total Students  Total School Budget  Average Math Score  \\\n",
       "0             15           39170             24649428           78.985371   \n",
       "\n",
       "   Average Reading Score  % Students Passing Math  % Students Passing Reading  \\\n",
       "0               81.87784                74.980853                   85.805463   \n",
       "\n",
       "              % Students Passing Both Math & Reading  \n",
       "0  school_students_passing_math_and_reading/schoo...  "
      ]
     },
     "execution_count": 22,
     "metadata": {},
     "output_type": "execute_result"
    }
   ],
   "source": [
    "# Sort the schools by `% Overall Passing` in ascending order and display the top 5 rows.\n",
    "bottom_schools = per_school_summary.sort_values(\"% Students Passing Both Math & Reading\").head(5)\n",
    "bottom_schools"
   ]
  },
  {
   "cell_type": "markdown",
   "metadata": {},
   "source": [
    "## Math Scores by Grade"
   ]
  },
  {
   "cell_type": "code",
   "execution_count": 23,
   "metadata": {},
   "outputs": [
    {
     "data": {
      "text/html": [
       "<div>\n",
       "<style scoped>\n",
       "    .dataframe tbody tr th:only-of-type {\n",
       "        vertical-align: middle;\n",
       "    }\n",
       "\n",
       "    .dataframe tbody tr th {\n",
       "        vertical-align: top;\n",
       "    }\n",
       "\n",
       "    .dataframe thead th {\n",
       "        text-align: right;\n",
       "    }\n",
       "</style>\n",
       "<table border=\"1\" class=\"dataframe\">\n",
       "  <thead>\n",
       "    <tr style=\"text-align: right;\">\n",
       "      <th>grade</th>\n",
       "      <th>10th</th>\n",
       "      <th>11th</th>\n",
       "      <th>12th</th>\n",
       "      <th>9th</th>\n",
       "    </tr>\n",
       "    <tr>\n",
       "      <th>school_name</th>\n",
       "      <th></th>\n",
       "      <th></th>\n",
       "      <th></th>\n",
       "      <th></th>\n",
       "    </tr>\n",
       "  </thead>\n",
       "  <tbody>\n",
       "    <tr>\n",
       "      <th>Bailey High School</th>\n",
       "      <td>76.996772</td>\n",
       "      <td>77.515588</td>\n",
       "      <td>76.492218</td>\n",
       "      <td>77.083676</td>\n",
       "    </tr>\n",
       "    <tr>\n",
       "      <th>Cabrera High School</th>\n",
       "      <td>83.154506</td>\n",
       "      <td>82.765560</td>\n",
       "      <td>83.277487</td>\n",
       "      <td>83.094697</td>\n",
       "    </tr>\n",
       "    <tr>\n",
       "      <th>Figueroa High School</th>\n",
       "      <td>76.539974</td>\n",
       "      <td>76.884344</td>\n",
       "      <td>77.151369</td>\n",
       "      <td>76.403037</td>\n",
       "    </tr>\n",
       "    <tr>\n",
       "      <th>Ford High School</th>\n",
       "      <td>77.672316</td>\n",
       "      <td>76.918058</td>\n",
       "      <td>76.179963</td>\n",
       "      <td>77.361345</td>\n",
       "    </tr>\n",
       "    <tr>\n",
       "      <th>Griffin High School</th>\n",
       "      <td>84.229064</td>\n",
       "      <td>83.842105</td>\n",
       "      <td>83.356164</td>\n",
       "      <td>82.044010</td>\n",
       "    </tr>\n",
       "    <tr>\n",
       "      <th>Hernandez High School</th>\n",
       "      <td>77.337408</td>\n",
       "      <td>77.136029</td>\n",
       "      <td>77.186567</td>\n",
       "      <td>77.438495</td>\n",
       "    </tr>\n",
       "    <tr>\n",
       "      <th>Holden High School</th>\n",
       "      <td>83.429825</td>\n",
       "      <td>85.000000</td>\n",
       "      <td>82.855422</td>\n",
       "      <td>83.787402</td>\n",
       "    </tr>\n",
       "    <tr>\n",
       "      <th>Huang High School</th>\n",
       "      <td>75.908735</td>\n",
       "      <td>76.446602</td>\n",
       "      <td>77.225641</td>\n",
       "      <td>77.027251</td>\n",
       "    </tr>\n",
       "    <tr>\n",
       "      <th>Johnson High School</th>\n",
       "      <td>76.691117</td>\n",
       "      <td>77.491653</td>\n",
       "      <td>76.863248</td>\n",
       "      <td>77.187857</td>\n",
       "    </tr>\n",
       "    <tr>\n",
       "      <th>Pena High School</th>\n",
       "      <td>83.372000</td>\n",
       "      <td>84.328125</td>\n",
       "      <td>84.121547</td>\n",
       "      <td>83.625455</td>\n",
       "    </tr>\n",
       "    <tr>\n",
       "      <th>Rodriguez High School</th>\n",
       "      <td>76.612500</td>\n",
       "      <td>76.395626</td>\n",
       "      <td>77.690748</td>\n",
       "      <td>76.859966</td>\n",
       "    </tr>\n",
       "    <tr>\n",
       "      <th>Shelton High School</th>\n",
       "      <td>82.917411</td>\n",
       "      <td>83.383495</td>\n",
       "      <td>83.778976</td>\n",
       "      <td>83.420755</td>\n",
       "    </tr>\n",
       "    <tr>\n",
       "      <th>Thomas High School</th>\n",
       "      <td>83.087886</td>\n",
       "      <td>83.498795</td>\n",
       "      <td>83.497041</td>\n",
       "      <td>83.590022</td>\n",
       "    </tr>\n",
       "    <tr>\n",
       "      <th>Wilson High School</th>\n",
       "      <td>83.724422</td>\n",
       "      <td>83.195326</td>\n",
       "      <td>83.035794</td>\n",
       "      <td>83.085578</td>\n",
       "    </tr>\n",
       "    <tr>\n",
       "      <th>Wright High School</th>\n",
       "      <td>84.010288</td>\n",
       "      <td>83.836782</td>\n",
       "      <td>83.644986</td>\n",
       "      <td>83.264706</td>\n",
       "    </tr>\n",
       "  </tbody>\n",
       "</table>\n",
       "</div>"
      ],
      "text/plain": [
       "grade                       10th       11th       12th        9th\n",
       "school_name                                                      \n",
       "Bailey High School     76.996772  77.515588  76.492218  77.083676\n",
       "Cabrera High School    83.154506  82.765560  83.277487  83.094697\n",
       "Figueroa High School   76.539974  76.884344  77.151369  76.403037\n",
       "Ford High School       77.672316  76.918058  76.179963  77.361345\n",
       "Griffin High School    84.229064  83.842105  83.356164  82.044010\n",
       "Hernandez High School  77.337408  77.136029  77.186567  77.438495\n",
       "Holden High School     83.429825  85.000000  82.855422  83.787402\n",
       "Huang High School      75.908735  76.446602  77.225641  77.027251\n",
       "Johnson High School    76.691117  77.491653  76.863248  77.187857\n",
       "Pena High School       83.372000  84.328125  84.121547  83.625455\n",
       "Rodriguez High School  76.612500  76.395626  77.690748  76.859966\n",
       "Shelton High School    82.917411  83.383495  83.778976  83.420755\n",
       "Thomas High School     83.087886  83.498795  83.497041  83.590022\n",
       "Wilson High School     83.724422  83.195326  83.035794  83.085578\n",
       "Wright High School     84.010288  83.836782  83.644986  83.264706"
      ]
     },
     "execution_count": 23,
     "metadata": {},
     "output_type": "execute_result"
    }
   ],
   "source": [
    "# Use the code provided to separate the data by grade\n",
    "ninth_graders = school_data_complete[(school_data_complete[\"grade\"] == \"9th\")]\n",
    "tenth_graders = school_data_complete[(school_data_complete[\"grade\"] == \"10th\")]\n",
    "eleventh_graders = school_data_complete[(school_data_complete[\"grade\"] == \"11th\")]\n",
    "twelfth_graders = school_data_complete[(school_data_complete[\"grade\"] == \"12th\")]\n",
    "math_scores_by_grade_df = pd.pivot_table(student_data, values='math_score', index='school_name', columns='grade', aggfunc='mean', fill_value=0)\n",
    "math_scores_by_grade_df"
   ]
  },
  {
   "cell_type": "markdown",
   "metadata": {},
   "source": [
    "## Reading Score by Grade "
   ]
  },
  {
   "cell_type": "code",
   "execution_count": 24,
   "metadata": {},
   "outputs": [
    {
     "data": {
      "text/html": [
       "<div>\n",
       "<style scoped>\n",
       "    .dataframe tbody tr th:only-of-type {\n",
       "        vertical-align: middle;\n",
       "    }\n",
       "\n",
       "    .dataframe tbody tr th {\n",
       "        vertical-align: top;\n",
       "    }\n",
       "\n",
       "    .dataframe thead th {\n",
       "        text-align: right;\n",
       "    }\n",
       "</style>\n",
       "<table border=\"1\" class=\"dataframe\">\n",
       "  <thead>\n",
       "    <tr style=\"text-align: right;\">\n",
       "      <th>grade</th>\n",
       "      <th>10th</th>\n",
       "      <th>11th</th>\n",
       "      <th>12th</th>\n",
       "      <th>9th</th>\n",
       "    </tr>\n",
       "    <tr>\n",
       "      <th>school_name</th>\n",
       "      <th></th>\n",
       "      <th></th>\n",
       "      <th></th>\n",
       "      <th></th>\n",
       "    </tr>\n",
       "  </thead>\n",
       "  <tbody>\n",
       "    <tr>\n",
       "      <th>Bailey High School</th>\n",
       "      <td>80.907183</td>\n",
       "      <td>80.945643</td>\n",
       "      <td>80.912451</td>\n",
       "      <td>81.303155</td>\n",
       "    </tr>\n",
       "    <tr>\n",
       "      <th>Cabrera High School</th>\n",
       "      <td>84.253219</td>\n",
       "      <td>83.788382</td>\n",
       "      <td>84.287958</td>\n",
       "      <td>83.676136</td>\n",
       "    </tr>\n",
       "    <tr>\n",
       "      <th>Figueroa High School</th>\n",
       "      <td>81.408912</td>\n",
       "      <td>80.640339</td>\n",
       "      <td>81.384863</td>\n",
       "      <td>81.198598</td>\n",
       "    </tr>\n",
       "    <tr>\n",
       "      <th>Ford High School</th>\n",
       "      <td>81.262712</td>\n",
       "      <td>80.403642</td>\n",
       "      <td>80.662338</td>\n",
       "      <td>80.632653</td>\n",
       "    </tr>\n",
       "    <tr>\n",
       "      <th>Griffin High School</th>\n",
       "      <td>83.706897</td>\n",
       "      <td>84.288089</td>\n",
       "      <td>84.013699</td>\n",
       "      <td>83.369193</td>\n",
       "    </tr>\n",
       "    <tr>\n",
       "      <th>Hernandez High School</th>\n",
       "      <td>80.660147</td>\n",
       "      <td>81.396140</td>\n",
       "      <td>80.857143</td>\n",
       "      <td>80.866860</td>\n",
       "    </tr>\n",
       "    <tr>\n",
       "      <th>Holden High School</th>\n",
       "      <td>83.324561</td>\n",
       "      <td>83.815534</td>\n",
       "      <td>84.698795</td>\n",
       "      <td>83.677165</td>\n",
       "    </tr>\n",
       "    <tr>\n",
       "      <th>Huang High School</th>\n",
       "      <td>81.512386</td>\n",
       "      <td>81.417476</td>\n",
       "      <td>80.305983</td>\n",
       "      <td>81.290284</td>\n",
       "    </tr>\n",
       "    <tr>\n",
       "      <th>Johnson High School</th>\n",
       "      <td>80.773431</td>\n",
       "      <td>80.616027</td>\n",
       "      <td>81.227564</td>\n",
       "      <td>81.260714</td>\n",
       "    </tr>\n",
       "    <tr>\n",
       "      <th>Pena High School</th>\n",
       "      <td>83.612000</td>\n",
       "      <td>84.335938</td>\n",
       "      <td>84.591160</td>\n",
       "      <td>83.807273</td>\n",
       "    </tr>\n",
       "    <tr>\n",
       "      <th>Rodriguez High School</th>\n",
       "      <td>80.629808</td>\n",
       "      <td>80.864811</td>\n",
       "      <td>80.376426</td>\n",
       "      <td>80.993127</td>\n",
       "    </tr>\n",
       "    <tr>\n",
       "      <th>Shelton High School</th>\n",
       "      <td>83.441964</td>\n",
       "      <td>84.373786</td>\n",
       "      <td>82.781671</td>\n",
       "      <td>84.122642</td>\n",
       "    </tr>\n",
       "    <tr>\n",
       "      <th>Thomas High School</th>\n",
       "      <td>84.254157</td>\n",
       "      <td>83.585542</td>\n",
       "      <td>83.831361</td>\n",
       "      <td>83.728850</td>\n",
       "    </tr>\n",
       "    <tr>\n",
       "      <th>Wilson High School</th>\n",
       "      <td>84.021452</td>\n",
       "      <td>83.764608</td>\n",
       "      <td>84.317673</td>\n",
       "      <td>83.939778</td>\n",
       "    </tr>\n",
       "    <tr>\n",
       "      <th>Wright High School</th>\n",
       "      <td>83.812757</td>\n",
       "      <td>84.156322</td>\n",
       "      <td>84.073171</td>\n",
       "      <td>83.833333</td>\n",
       "    </tr>\n",
       "  </tbody>\n",
       "</table>\n",
       "</div>"
      ],
      "text/plain": [
       "grade                       10th       11th       12th        9th\n",
       "school_name                                                      \n",
       "Bailey High School     80.907183  80.945643  80.912451  81.303155\n",
       "Cabrera High School    84.253219  83.788382  84.287958  83.676136\n",
       "Figueroa High School   81.408912  80.640339  81.384863  81.198598\n",
       "Ford High School       81.262712  80.403642  80.662338  80.632653\n",
       "Griffin High School    83.706897  84.288089  84.013699  83.369193\n",
       "Hernandez High School  80.660147  81.396140  80.857143  80.866860\n",
       "Holden High School     83.324561  83.815534  84.698795  83.677165\n",
       "Huang High School      81.512386  81.417476  80.305983  81.290284\n",
       "Johnson High School    80.773431  80.616027  81.227564  81.260714\n",
       "Pena High School       83.612000  84.335938  84.591160  83.807273\n",
       "Rodriguez High School  80.629808  80.864811  80.376426  80.993127\n",
       "Shelton High School    83.441964  84.373786  82.781671  84.122642\n",
       "Thomas High School     84.254157  83.585542  83.831361  83.728850\n",
       "Wilson High School     84.021452  83.764608  84.317673  83.939778\n",
       "Wright High School     83.812757  84.156322  84.073171  83.833333"
      ]
     },
     "execution_count": 24,
     "metadata": {},
     "output_type": "execute_result"
    }
   ],
   "source": [
    "# Use the code provided to separate the data by grade\n",
    "ninth_graders = school_data_complete[(school_data_complete[\"grade\"] == \"9th\")]\n",
    "tenth_graders = school_data_complete[(school_data_complete[\"grade\"] == \"10th\")]\n",
    "eleventh_graders = school_data_complete[(school_data_complete[\"grade\"] == \"11th\")]\n",
    "twelfth_graders = school_data_complete[(school_data_complete[\"grade\"] == \"12th\")]\n",
    "\n",
    "reading_scores_by_grade_df = pd.pivot_table(student_data, values='reading_score', index='school_name', columns='grade', aggfunc='mean', fill_value=0)\n",
    "reading_scores_by_grade_df"
   ]
  },
  {
   "cell_type": "markdown",
   "metadata": {},
   "source": [
    "## Scores by School Spending"
   ]
  },
  {
   "cell_type": "code",
   "execution_count": 25,
   "metadata": {},
   "outputs": [],
   "source": [
    "# Establish the bins \n",
    "spending_bins = [0, 585, 630, 645, 680]\n",
    "labels = [\"<$585\", \"$585-630\", \"$630-645\", \"$645-680\"]"
   ]
  },
  {
   "cell_type": "code",
   "execution_count": 26,
   "metadata": {},
   "outputs": [],
   "source": [
    "# Create a copy of the school summary since it has the \"Per Student Budget\" \n",
    "school_spending_df = per_school_summary.copy()"
   ]
  },
  {
   "cell_type": "code",
   "execution_count": 27,
   "metadata": {},
   "outputs": [],
   "source": [
    "# Use `pd.cut` to categorize spending based on the bins.\n",
    "per_school_summary[\"Per Student Budget\"] = per_school_summary[\"Total School Budget\"] / per_school_summary[\"Total Students\"]\n",
    "per_school_summary[\"Spending Ranges (Per Student)\"] = pd.cut(per_school_summary[\"Per Student Budget\"], spending_bins,)\n",
    "\n"
   ]
  },
  {
   "cell_type": "code",
   "execution_count": 31,
   "metadata": {},
   "outputs": [
    {
     "ename": "TypeError",
     "evalue": "Could not convert school_students_passing_math_and_reading/school_dataschool_students_passing_math_and_reading/school_dataschool_students_passing_math_and_reading/school_dataschool_students_passing_math_and_reading/school_dataschool_students_passing_math_and_reading/school_dataschool_students_passing_math_and_reading/school_dataschool_students_passing_math_and_reading/school_dataschool_students_passing_math_and_reading/school_dataschool_students_passing_math_and_reading/school_dataschool_students_passing_math_and_reading/school_dataschool_students_passing_math_and_reading/school_dataschool_students_passing_math_and_reading/school_dataschool_students_passing_math_and_reading/school_dataschool_students_passing_math_and_reading/school_dataschool_students_passing_math_and_reading/school_dataschool_students_passing_math_and_reading/school_dataschool_students_passing_math_and_reading/school_dataschool_students_passing_math_and_reading/school_dataschool_students_passing_math_and_reading/school_dataschool_students_passing_math_and_reading/school_dataschool_students_passing_math_and_reading/school_dataschool_students_passing_math_and_reading/school_dataschool_students_passing_math_and_reading/school_dataschool_students_passing_math_and_reading/school_dataschool_students_passing_math_and_reading/school_dataschool_students_passing_math_and_reading/school_dataschool_students_passing_math_and_reading/school_dataschool_students_passing_math_and_reading/school_dataschool_students_passing_math_and_reading/school_dataschool_students_passing_math_and_reading/school_dataschool_students_passing_math_and_reading/school_dataschool_students_passing_math_and_reading/school_dataschool_students_passing_math_and_reading/school_dataschool_students_passing_math_and_reading/school_dataschool_students_passing_math_and_reading/school_dataschool_students_passing_math_and_reading/school_dataschool_students_passing_math_and_reading/school_dataschool_students_passing_math_and_reading/school_dataschool_students_passing_math_and_reading/school_dataschool_students_passing_math_and_reading/school_dataschool_students_passing_math_and_reading/school_dataschool_students_passing_math_and_reading/school_dataschool_students_passing_math_and_reading/school_dataschool_students_passing_math_and_reading/school_dataschool_students_passing_math_and_reading/school_dataschool_students_passing_math_and_reading/school_dataschool_students_passing_math_and_reading/school_dataschool_students_passing_math_and_reading/school_dataschool_students_passing_math_and_reading/school_dataschool_students_passing_math_and_reading/school_dataschool_students_passing_math_and_reading/school_dataschool_students_passing_math_and_reading/school_dataschool_students_passing_math_and_reading/school_dataschool_students_passing_math_and_reading/school_dataschool_students_passing_math_and_reading/school_dataschool_students_passing_math_and_reading/school_dataschool_students_passing_math_and_reading/school_dataschool_students_passing_math_and_reading/school_dataschool_students_passing_math_and_reading/school_dataschool_students_passing_math_and_reading/school_dataschool_students_passing_math_and_reading/school_dataschool_students_passing_math_and_reading/school_dataschool_students_passing_math_and_reading/school_dataschool_students_passing_math_and_reading/school_dataschool_students_passing_math_and_reading/school_dataschool_students_passing_math_and_reading/school_dataschool_students_passing_math_and_reading/school_dataschool_students_passing_math_and_reading/school_dataschool_students_passing_math_and_reading/school_dataschool_students_passing_math_and_reading/school_dataschool_students_passing_math_and_reading/school_dataschool_students_passing_math_and_reading/school_dataschool_students_passing_math_and_reading/school_dataschool_students_passing_math_and_reading/school_dataschool_students_passing_math_and_reading/school_dataschool_students_passing_math_and_reading/school_dataschool_students_passing_math_and_reading/school_dataschool_students_passing_math_and_reading/school_dataschool_students_passing_math_and_reading/school_dataschool_students_passing_math_and_reading/school_dataschool_students_passing_math_and_reading/school_dataschool_students_passing_math_and_reading/school_dataschool_students_passing_math_and_reading/school_dataschool_students_passing_math_and_reading/school_dataschool_students_passing_math_and_reading/school_dataschool_students_passing_math_and_reading/school_dataschool_students_passing_math_and_reading/school_dataschool_students_passing_math_and_reading/school_dataschool_students_passing_math_and_reading/school_dataschool_students_passing_math_and_reading/school_dataschool_students_passing_math_and_reading/school_dataschool_students_passing_math_and_reading/school_dataschool_students_passing_math_and_reading/school_dataschool_students_passing_math_and_reading/school_dataschool_students_passing_math_and_reading/school_dataschool_students_passing_math_and_reading/school_dataschool_students_passing_math_and_reading/school_dataschool_students_passing_math_and_reading/school_dataschool_students_passing_math_and_reading/school_dataschool_students_passing_math_and_reading/school_data to numeric",
     "output_type": "error",
     "traceback": [
      "\u001b[0;31m---------------------------------------------------------------------------\u001b[0m",
      "\u001b[0;31mNotImplementedError\u001b[0m                       Traceback (most recent call last)",
      "File \u001b[0;32m~/anaconda3/lib/python3.10/site-packages/pandas/core/groupby/groupby.py:1791\u001b[0m, in \u001b[0;36mGroupBy._cython_agg_general.<locals>.array_func\u001b[0;34m(values)\u001b[0m\n\u001b[1;32m   1790\u001b[0m \u001b[39mtry\u001b[39;00m:\n\u001b[0;32m-> 1791\u001b[0m     result \u001b[39m=\u001b[39m \u001b[39mself\u001b[39;49m\u001b[39m.\u001b[39;49mgrouper\u001b[39m.\u001b[39;49m_cython_operation(\n\u001b[1;32m   1792\u001b[0m         \u001b[39m\"\u001b[39;49m\u001b[39maggregate\u001b[39;49m\u001b[39m\"\u001b[39;49m,\n\u001b[1;32m   1793\u001b[0m         values,\n\u001b[1;32m   1794\u001b[0m         how,\n\u001b[1;32m   1795\u001b[0m         axis\u001b[39m=\u001b[39;49mdata\u001b[39m.\u001b[39;49mndim \u001b[39m-\u001b[39;49m \u001b[39m1\u001b[39;49m,\n\u001b[1;32m   1796\u001b[0m         min_count\u001b[39m=\u001b[39;49mmin_count,\n\u001b[1;32m   1797\u001b[0m         \u001b[39m*\u001b[39;49m\u001b[39m*\u001b[39;49mkwargs,\n\u001b[1;32m   1798\u001b[0m     )\n\u001b[1;32m   1799\u001b[0m \u001b[39mexcept\u001b[39;00m \u001b[39mNotImplementedError\u001b[39;00m:\n\u001b[1;32m   1800\u001b[0m     \u001b[39m# generally if we have numeric_only=False\u001b[39;00m\n\u001b[1;32m   1801\u001b[0m     \u001b[39m# and non-applicable functions\u001b[39;00m\n\u001b[1;32m   1802\u001b[0m     \u001b[39m# try to python agg\u001b[39;00m\n\u001b[1;32m   1803\u001b[0m     \u001b[39m# TODO: shouldn't min_count matter?\u001b[39;00m\n",
      "File \u001b[0;32m~/anaconda3/lib/python3.10/site-packages/pandas/core/groupby/ops.py:1039\u001b[0m, in \u001b[0;36mBaseGrouper._cython_operation\u001b[0;34m(self, kind, values, how, axis, min_count, **kwargs)\u001b[0m\n\u001b[1;32m   1038\u001b[0m ngroups \u001b[39m=\u001b[39m \u001b[39mself\u001b[39m\u001b[39m.\u001b[39mngroups\n\u001b[0;32m-> 1039\u001b[0m \u001b[39mreturn\u001b[39;00m cy_op\u001b[39m.\u001b[39;49mcython_operation(\n\u001b[1;32m   1040\u001b[0m     values\u001b[39m=\u001b[39;49mvalues,\n\u001b[1;32m   1041\u001b[0m     axis\u001b[39m=\u001b[39;49maxis,\n\u001b[1;32m   1042\u001b[0m     min_count\u001b[39m=\u001b[39;49mmin_count,\n\u001b[1;32m   1043\u001b[0m     comp_ids\u001b[39m=\u001b[39;49mids,\n\u001b[1;32m   1044\u001b[0m     ngroups\u001b[39m=\u001b[39;49mngroups,\n\u001b[1;32m   1045\u001b[0m     \u001b[39m*\u001b[39;49m\u001b[39m*\u001b[39;49mkwargs,\n\u001b[1;32m   1046\u001b[0m )\n",
      "File \u001b[0;32m~/anaconda3/lib/python3.10/site-packages/pandas/core/groupby/ops.py:708\u001b[0m, in \u001b[0;36mWrappedCythonOp.cython_operation\u001b[0;34m(self, values, axis, min_count, comp_ids, ngroups, **kwargs)\u001b[0m\n\u001b[1;32m    700\u001b[0m     \u001b[39mreturn\u001b[39;00m \u001b[39mself\u001b[39m\u001b[39m.\u001b[39m_ea_wrap_cython_operation(\n\u001b[1;32m    701\u001b[0m         values,\n\u001b[1;32m    702\u001b[0m         min_count\u001b[39m=\u001b[39mmin_count,\n\u001b[0;32m   (...)\u001b[0m\n\u001b[1;32m    705\u001b[0m         \u001b[39m*\u001b[39m\u001b[39m*\u001b[39mkwargs,\n\u001b[1;32m    706\u001b[0m     )\n\u001b[0;32m--> 708\u001b[0m \u001b[39mreturn\u001b[39;00m \u001b[39mself\u001b[39;49m\u001b[39m.\u001b[39;49m_cython_op_ndim_compat(\n\u001b[1;32m    709\u001b[0m     values,\n\u001b[1;32m    710\u001b[0m     min_count\u001b[39m=\u001b[39;49mmin_count,\n\u001b[1;32m    711\u001b[0m     ngroups\u001b[39m=\u001b[39;49mngroups,\n\u001b[1;32m    712\u001b[0m     comp_ids\u001b[39m=\u001b[39;49mcomp_ids,\n\u001b[1;32m    713\u001b[0m     mask\u001b[39m=\u001b[39;49m\u001b[39mNone\u001b[39;49;00m,\n\u001b[1;32m    714\u001b[0m     \u001b[39m*\u001b[39;49m\u001b[39m*\u001b[39;49mkwargs,\n\u001b[1;32m    715\u001b[0m )\n",
      "File \u001b[0;32m~/anaconda3/lib/python3.10/site-packages/pandas/core/groupby/ops.py:512\u001b[0m, in \u001b[0;36mWrappedCythonOp._cython_op_ndim_compat\u001b[0;34m(self, values, min_count, ngroups, comp_ids, mask, result_mask, **kwargs)\u001b[0m\n\u001b[1;32m    511\u001b[0m     result_mask \u001b[39m=\u001b[39m result_mask[\u001b[39mNone\u001b[39;00m, :]\n\u001b[0;32m--> 512\u001b[0m res \u001b[39m=\u001b[39m \u001b[39mself\u001b[39;49m\u001b[39m.\u001b[39;49m_call_cython_op(\n\u001b[1;32m    513\u001b[0m     values2d,\n\u001b[1;32m    514\u001b[0m     min_count\u001b[39m=\u001b[39;49mmin_count,\n\u001b[1;32m    515\u001b[0m     ngroups\u001b[39m=\u001b[39;49mngroups,\n\u001b[1;32m    516\u001b[0m     comp_ids\u001b[39m=\u001b[39;49mcomp_ids,\n\u001b[1;32m    517\u001b[0m     mask\u001b[39m=\u001b[39;49mmask,\n\u001b[1;32m    518\u001b[0m     result_mask\u001b[39m=\u001b[39;49mresult_mask,\n\u001b[1;32m    519\u001b[0m     \u001b[39m*\u001b[39;49m\u001b[39m*\u001b[39;49mkwargs,\n\u001b[1;32m    520\u001b[0m )\n\u001b[1;32m    521\u001b[0m \u001b[39mif\u001b[39;00m res\u001b[39m.\u001b[39mshape[\u001b[39m0\u001b[39m] \u001b[39m==\u001b[39m \u001b[39m1\u001b[39m:\n",
      "File \u001b[0;32m~/anaconda3/lib/python3.10/site-packages/pandas/core/groupby/ops.py:571\u001b[0m, in \u001b[0;36mWrappedCythonOp._call_cython_op\u001b[0;34m(self, values, min_count, ngroups, comp_ids, mask, result_mask, **kwargs)\u001b[0m\n\u001b[1;32m    570\u001b[0m out_shape \u001b[39m=\u001b[39m \u001b[39mself\u001b[39m\u001b[39m.\u001b[39m_get_output_shape(ngroups, values)\n\u001b[0;32m--> 571\u001b[0m func \u001b[39m=\u001b[39m \u001b[39mself\u001b[39;49m\u001b[39m.\u001b[39;49m_get_cython_function(\u001b[39mself\u001b[39;49m\u001b[39m.\u001b[39;49mkind, \u001b[39mself\u001b[39;49m\u001b[39m.\u001b[39;49mhow, values\u001b[39m.\u001b[39;49mdtype, is_numeric)\n\u001b[1;32m    572\u001b[0m values \u001b[39m=\u001b[39m \u001b[39mself\u001b[39m\u001b[39m.\u001b[39m_get_cython_vals(values)\n",
      "File \u001b[0;32m~/anaconda3/lib/python3.10/site-packages/pandas/core/groupby/ops.py:192\u001b[0m, in \u001b[0;36mWrappedCythonOp._get_cython_function\u001b[0;34m(cls, kind, how, dtype, is_numeric)\u001b[0m\n\u001b[1;32m    190\u001b[0m \u001b[39melif\u001b[39;00m \u001b[39m\"\u001b[39m\u001b[39mobject\u001b[39m\u001b[39m\"\u001b[39m \u001b[39mnot\u001b[39;00m \u001b[39min\u001b[39;00m f\u001b[39m.\u001b[39m__signatures__:\n\u001b[1;32m    191\u001b[0m     \u001b[39m# raise NotImplementedError here rather than TypeError later\u001b[39;00m\n\u001b[0;32m--> 192\u001b[0m     \u001b[39mraise\u001b[39;00m \u001b[39mNotImplementedError\u001b[39;00m(\n\u001b[1;32m    193\u001b[0m         \u001b[39mf\u001b[39m\u001b[39m\"\u001b[39m\u001b[39mfunction is not implemented for this dtype: \u001b[39m\u001b[39m\"\u001b[39m\n\u001b[1;32m    194\u001b[0m         \u001b[39mf\u001b[39m\u001b[39m\"\u001b[39m\u001b[39m[how->\u001b[39m\u001b[39m{\u001b[39;00mhow\u001b[39m}\u001b[39;00m\u001b[39m,dtype->\u001b[39m\u001b[39m{\u001b[39;00mdtype_str\u001b[39m}\u001b[39;00m\u001b[39m]\u001b[39m\u001b[39m\"\u001b[39m\n\u001b[1;32m    195\u001b[0m     )\n\u001b[1;32m    196\u001b[0m \u001b[39mreturn\u001b[39;00m f\n",
      "\u001b[0;31mNotImplementedError\u001b[0m: function is not implemented for this dtype: [how->mean,dtype->object]",
      "\nDuring handling of the above exception, another exception occurred:\n",
      "\u001b[0;31mValueError\u001b[0m                                Traceback (most recent call last)",
      "File \u001b[0;32m~/anaconda3/lib/python3.10/site-packages/pandas/core/nanops.py:1630\u001b[0m, in \u001b[0;36m_ensure_numeric\u001b[0;34m(x)\u001b[0m\n\u001b[1;32m   1629\u001b[0m \u001b[39mtry\u001b[39;00m:\n\u001b[0;32m-> 1630\u001b[0m     x \u001b[39m=\u001b[39m \u001b[39mfloat\u001b[39;49m(x)\n\u001b[1;32m   1631\u001b[0m \u001b[39mexcept\u001b[39;00m (\u001b[39mTypeError\u001b[39;00m, \u001b[39mValueError\u001b[39;00m):\n\u001b[1;32m   1632\u001b[0m     \u001b[39m# e.g. \"1+1j\" or \"foo\"\u001b[39;00m\n",
      "\u001b[0;31mValueError\u001b[0m: could not convert string to float: 'school_students_passing_math_and_reading/school_dataschool_students_passing_math_and_reading/school_dataschool_students_passing_math_and_reading/school_dataschool_students_passing_math_and_reading/school_dataschool_students_passing_math_and_reading/school_dataschool_students_passing_math_and_reading/school_dataschool_students_passing_math_and_reading/school_dataschool_students_passing_math_and_reading/school_dataschool_students_passing_math_and_reading/school_dataschool_students_passing_math_and_reading/school_dataschool_students_passing_math_and_reading/school_dataschool_students_passing_math_and_reading/school_dataschool_students_passing_math_and_reading/school_dataschool_students_passing_math_and_reading/school_dataschool_students_passing_math_and_reading/school_dataschool_students_passing_math_and_reading/school_dataschool_students_passing_math_and_reading/school_dataschool_students_passing_math_and_reading/school_dataschool_students_passing_math_and_reading/school_dataschool_students_passing_math_and_reading/school_dataschool_students_passing_math_and_reading/school_dataschool_students_passing_math_and_reading/school_dataschool_students_passing_math_and_reading/school_dataschool_students_passing_math_and_reading/school_dataschool_students_passing_math_and_reading/school_dataschool_students_passing_math_and_reading/school_dataschool_students_passing_math_and_reading/school_dataschool_students_passing_math_and_reading/school_dataschool_students_passing_math_and_reading/school_dataschool_students_passing_math_and_reading/school_dataschool_students_passing_math_and_reading/school_dataschool_students_passing_math_and_reading/school_dataschool_students_passing_math_and_reading/school_dataschool_students_passing_math_and_reading/school_dataschool_students_passing_math_and_reading/school_dataschool_students_passing_math_and_reading/school_dataschool_students_passing_math_and_reading/school_dataschool_students_passing_math_and_reading/school_dataschool_students_passing_math_and_reading/school_dataschool_students_passing_math_and_reading/school_dataschool_students_passing_math_and_reading/school_dataschool_students_passing_math_and_reading/school_dataschool_students_passing_math_and_reading/school_dataschool_students_passing_math_and_reading/school_dataschool_students_passing_math_and_reading/school_dataschool_students_passing_math_and_reading/school_dataschool_students_passing_math_and_reading/school_dataschool_students_passing_math_and_reading/school_dataschool_students_passing_math_and_reading/school_dataschool_students_passing_math_and_reading/school_dataschool_students_passing_math_and_reading/school_dataschool_students_passing_math_and_reading/school_dataschool_students_passing_math_and_reading/school_dataschool_students_passing_math_and_reading/school_dataschool_students_passing_math_and_reading/school_dataschool_students_passing_math_and_reading/school_dataschool_students_passing_math_and_reading/school_dataschool_students_passing_math_and_reading/school_dataschool_students_passing_math_and_reading/school_dataschool_students_passing_math_and_reading/school_dataschool_students_passing_math_and_reading/school_dataschool_students_passing_math_and_reading/school_dataschool_students_passing_math_and_reading/school_dataschool_students_passing_math_and_reading/school_dataschool_students_passing_math_and_reading/school_dataschool_students_passing_math_and_reading/school_dataschool_students_passing_math_and_reading/school_dataschool_students_passing_math_and_reading/school_dataschool_students_passing_math_and_reading/school_dataschool_students_passing_math_and_reading/school_dataschool_students_passing_math_and_reading/school_dataschool_students_passing_math_and_reading/school_dataschool_students_passing_math_and_reading/school_dataschool_students_passing_math_and_reading/school_dataschool_students_passing_math_and_reading/school_dataschool_students_passing_math_and_reading/school_dataschool_students_passing_math_and_reading/school_dataschool_students_passing_math_and_reading/school_dataschool_students_passing_math_and_reading/school_dataschool_students_passing_math_and_reading/school_dataschool_students_passing_math_and_reading/school_dataschool_students_passing_math_and_reading/school_dataschool_students_passing_math_and_reading/school_dataschool_students_passing_math_and_reading/school_dataschool_students_passing_math_and_reading/school_dataschool_students_passing_math_and_reading/school_dataschool_students_passing_math_and_reading/school_dataschool_students_passing_math_and_reading/school_dataschool_students_passing_math_and_reading/school_dataschool_students_passing_math_and_reading/school_dataschool_students_passing_math_and_reading/school_dataschool_students_passing_math_and_reading/school_dataschool_students_passing_math_and_reading/school_dataschool_students_passing_math_and_reading/school_dataschool_students_passing_math_and_reading/school_dataschool_students_passing_math_and_reading/school_dataschool_students_passing_math_and_reading/school_dataschool_students_passing_math_and_reading/school_dataschool_students_passing_math_and_reading/school_dataschool_students_passing_math_and_reading/school_data'",
      "\nDuring handling of the above exception, another exception occurred:\n",
      "\u001b[0;31mValueError\u001b[0m                                Traceback (most recent call last)",
      "File \u001b[0;32m~/anaconda3/lib/python3.10/site-packages/pandas/core/nanops.py:1634\u001b[0m, in \u001b[0;36m_ensure_numeric\u001b[0;34m(x)\u001b[0m\n\u001b[1;32m   1633\u001b[0m \u001b[39mtry\u001b[39;00m:\n\u001b[0;32m-> 1634\u001b[0m     x \u001b[39m=\u001b[39m \u001b[39mcomplex\u001b[39;49m(x)\n\u001b[1;32m   1635\u001b[0m \u001b[39mexcept\u001b[39;00m \u001b[39mValueError\u001b[39;00m \u001b[39mas\u001b[39;00m err:\n\u001b[1;32m   1636\u001b[0m     \u001b[39m# e.g. \"foo\"\u001b[39;00m\n",
      "\u001b[0;31mValueError\u001b[0m: could not convert string to complex: 'school_students_passing_math_and_reading/school_dataschool_students_passing_math_and_reading/school_dataschool_students_passing_math_and_reading/school_dataschool_students_passing_math_and_reading/school_dataschool_students_passing_math_and_reading/school_dataschool_students_passing_math_and_reading/school_dataschool_students_passing_math_and_reading/school_dataschool_students_passing_math_and_reading/school_dataschool_students_passing_math_and_reading/school_dataschool_students_passing_math_and_reading/school_dataschool_students_passing_math_and_reading/school_dataschool_students_passing_math_and_reading/school_dataschool_students_passing_math_and_reading/school_dataschool_students_passing_math_and_reading/school_dataschool_students_passing_math_and_reading/school_dataschool_students_passing_math_and_reading/school_dataschool_students_passing_math_and_reading/school_dataschool_students_passing_math_and_reading/school_dataschool_students_passing_math_and_reading/school_dataschool_students_passing_math_and_reading/school_dataschool_students_passing_math_and_reading/school_dataschool_students_passing_math_and_reading/school_dataschool_students_passing_math_and_reading/school_dataschool_students_passing_math_and_reading/school_dataschool_students_passing_math_and_reading/school_dataschool_students_passing_math_and_reading/school_dataschool_students_passing_math_and_reading/school_dataschool_students_passing_math_and_reading/school_dataschool_students_passing_math_and_reading/school_dataschool_students_passing_math_and_reading/school_dataschool_students_passing_math_and_reading/school_dataschool_students_passing_math_and_reading/school_dataschool_students_passing_math_and_reading/school_dataschool_students_passing_math_and_reading/school_dataschool_students_passing_math_and_reading/school_dataschool_students_passing_math_and_reading/school_dataschool_students_passing_math_and_reading/school_dataschool_students_passing_math_and_reading/school_dataschool_students_passing_math_and_reading/school_dataschool_students_passing_math_and_reading/school_dataschool_students_passing_math_and_reading/school_dataschool_students_passing_math_and_reading/school_dataschool_students_passing_math_and_reading/school_dataschool_students_passing_math_and_reading/school_dataschool_students_passing_math_and_reading/school_dataschool_students_passing_math_and_reading/school_dataschool_students_passing_math_and_reading/school_dataschool_students_passing_math_and_reading/school_dataschool_students_passing_math_and_reading/school_dataschool_students_passing_math_and_reading/school_dataschool_students_passing_math_and_reading/school_dataschool_students_passing_math_and_reading/school_dataschool_students_passing_math_and_reading/school_dataschool_students_passing_math_and_reading/school_dataschool_students_passing_math_and_reading/school_dataschool_students_passing_math_and_reading/school_dataschool_students_passing_math_and_reading/school_dataschool_students_passing_math_and_reading/school_dataschool_students_passing_math_and_reading/school_dataschool_students_passing_math_and_reading/school_dataschool_students_passing_math_and_reading/school_dataschool_students_passing_math_and_reading/school_dataschool_students_passing_math_and_reading/school_dataschool_students_passing_math_and_reading/school_dataschool_students_passing_math_and_reading/school_dataschool_students_passing_math_and_reading/school_dataschool_students_passing_math_and_reading/school_dataschool_students_passing_math_and_reading/school_dataschool_students_passing_math_and_reading/school_dataschool_students_passing_math_and_reading/school_dataschool_students_passing_math_and_reading/school_dataschool_students_passing_math_and_reading/school_dataschool_students_passing_math_and_reading/school_dataschool_students_passing_math_and_reading/school_dataschool_students_passing_math_and_reading/school_dataschool_students_passing_math_and_reading/school_dataschool_students_passing_math_and_reading/school_dataschool_students_passing_math_and_reading/school_dataschool_students_passing_math_and_reading/school_dataschool_students_passing_math_and_reading/school_dataschool_students_passing_math_and_reading/school_dataschool_students_passing_math_and_reading/school_dataschool_students_passing_math_and_reading/school_dataschool_students_passing_math_and_reading/school_dataschool_students_passing_math_and_reading/school_dataschool_students_passing_math_and_reading/school_dataschool_students_passing_math_and_reading/school_dataschool_students_passing_math_and_reading/school_dataschool_students_passing_math_and_reading/school_dataschool_students_passing_math_and_reading/school_dataschool_students_passing_math_and_reading/school_dataschool_students_passing_math_and_reading/school_dataschool_students_passing_math_and_reading/school_dataschool_students_passing_math_and_reading/school_dataschool_students_passing_math_and_reading/school_dataschool_students_passing_math_and_reading/school_dataschool_students_passing_math_and_reading/school_dataschool_students_passing_math_and_reading/school_dataschool_students_passing_math_and_reading/school_dataschool_students_passing_math_and_reading/school_data'",
      "\nThe above exception was the direct cause of the following exception:\n",
      "\u001b[0;31mTypeError\u001b[0m                                 Traceback (most recent call last)",
      "Cell \u001b[0;32mIn[31], line 6\u001b[0m\n\u001b[1;32m      4\u001b[0m spending_passing_math \u001b[39m=\u001b[39m school_spending_df\u001b[39m.\u001b[39mgroupby([\u001b[39m\"\u001b[39m\u001b[39mSpending Ranges (Per Student)\u001b[39m\u001b[39m\"\u001b[39m])[\u001b[39m\"\u001b[39m\u001b[39m%\u001b[39m\u001b[39m Students Passing Math\u001b[39m\u001b[39m\"\u001b[39m]\u001b[39m.\u001b[39mmean()\n\u001b[1;32m      5\u001b[0m spending_passing_reading \u001b[39m=\u001b[39m school_spending_df\u001b[39m.\u001b[39mgroupby([\u001b[39m\"\u001b[39m\u001b[39mSpending Ranges (Per Student)\u001b[39m\u001b[39m\"\u001b[39m])[\u001b[39m\"\u001b[39m\u001b[39m%\u001b[39m\u001b[39m Students Passing Reading\u001b[39m\u001b[39m\"\u001b[39m]\u001b[39m.\u001b[39mmean()\n\u001b[0;32m----> 6\u001b[0m overall_passing_spending \u001b[39m=\u001b[39m school_spending_df\u001b[39m.\u001b[39;49mgroupby([\u001b[39m\"\u001b[39;49m\u001b[39mSpending Ranges (Per Student)\u001b[39;49m\u001b[39m\"\u001b[39;49m])[\u001b[39m\"\u001b[39;49m\u001b[39m%\u001b[39;49m\u001b[39m Students Passing Both Math & Reading\u001b[39;49m\u001b[39m\"\u001b[39;49m]\u001b[39m.\u001b[39;49mmean()\n",
      "File \u001b[0;32m~/anaconda3/lib/python3.10/site-packages/pandas/core/groupby/groupby.py:2183\u001b[0m, in \u001b[0;36mGroupBy.mean\u001b[0;34m(self, numeric_only, engine, engine_kwargs)\u001b[0m\n\u001b[1;32m   2181\u001b[0m     \u001b[39mreturn\u001b[39;00m \u001b[39mself\u001b[39m\u001b[39m.\u001b[39m_numba_agg_general(sliding_mean, engine_kwargs)\n\u001b[1;32m   2182\u001b[0m \u001b[39melse\u001b[39;00m:\n\u001b[0;32m-> 2183\u001b[0m     result \u001b[39m=\u001b[39m \u001b[39mself\u001b[39;49m\u001b[39m.\u001b[39;49m_cython_agg_general(\n\u001b[1;32m   2184\u001b[0m         \u001b[39m\"\u001b[39;49m\u001b[39mmean\u001b[39;49m\u001b[39m\"\u001b[39;49m,\n\u001b[1;32m   2185\u001b[0m         alt\u001b[39m=\u001b[39;49m\u001b[39mlambda\u001b[39;49;00m x: Series(x)\u001b[39m.\u001b[39;49mmean(numeric_only\u001b[39m=\u001b[39;49mnumeric_only_bool),\n\u001b[1;32m   2186\u001b[0m         numeric_only\u001b[39m=\u001b[39;49mnumeric_only,\n\u001b[1;32m   2187\u001b[0m     )\n\u001b[1;32m   2188\u001b[0m     \u001b[39mreturn\u001b[39;00m result\u001b[39m.\u001b[39m__finalize__(\u001b[39mself\u001b[39m\u001b[39m.\u001b[39mobj, method\u001b[39m=\u001b[39m\u001b[39m\"\u001b[39m\u001b[39mgroupby\u001b[39m\u001b[39m\"\u001b[39m)\n",
      "File \u001b[0;32m~/anaconda3/lib/python3.10/site-packages/pandas/core/groupby/groupby.py:1810\u001b[0m, in \u001b[0;36mGroupBy._cython_agg_general\u001b[0;34m(self, how, alt, numeric_only, min_count, ignore_failures, **kwargs)\u001b[0m\n\u001b[1;32m   1806\u001b[0m     \u001b[39mreturn\u001b[39;00m result\n\u001b[1;32m   1808\u001b[0m \u001b[39m# TypeError -> we may have an exception in trying to aggregate\u001b[39;00m\n\u001b[1;32m   1809\u001b[0m \u001b[39m#  continue and exclude the block\u001b[39;00m\n\u001b[0;32m-> 1810\u001b[0m new_mgr \u001b[39m=\u001b[39m data\u001b[39m.\u001b[39;49mgrouped_reduce(array_func, ignore_failures\u001b[39m=\u001b[39;49mignore_failures)\n\u001b[1;32m   1812\u001b[0m \u001b[39mif\u001b[39;00m \u001b[39mnot\u001b[39;00m is_ser \u001b[39mand\u001b[39;00m \u001b[39mlen\u001b[39m(new_mgr) \u001b[39m<\u001b[39m orig_len:\n\u001b[1;32m   1813\u001b[0m     warn_dropping_nuisance_columns_deprecated(\u001b[39mtype\u001b[39m(\u001b[39mself\u001b[39m), how, numeric_only)\n",
      "File \u001b[0;32m~/anaconda3/lib/python3.10/site-packages/pandas/core/internals/base.py:199\u001b[0m, in \u001b[0;36mSingleDataManager.grouped_reduce\u001b[0;34m(self, func, ignore_failures)\u001b[0m\n\u001b[1;32m    193\u001b[0m \u001b[39m\"\"\"\u001b[39;00m\n\u001b[1;32m    194\u001b[0m \u001b[39mignore_failures : bool, default False\u001b[39;00m\n\u001b[1;32m    195\u001b[0m \u001b[39m    Not used; for compatibility with ArrayManager/BlockManager.\u001b[39;00m\n\u001b[1;32m    196\u001b[0m \u001b[39m\"\"\"\u001b[39;00m\n\u001b[1;32m    198\u001b[0m arr \u001b[39m=\u001b[39m \u001b[39mself\u001b[39m\u001b[39m.\u001b[39marray\n\u001b[0;32m--> 199\u001b[0m res \u001b[39m=\u001b[39m func(arr)\n\u001b[1;32m    200\u001b[0m index \u001b[39m=\u001b[39m default_index(\u001b[39mlen\u001b[39m(res))\n\u001b[1;32m    202\u001b[0m mgr \u001b[39m=\u001b[39m \u001b[39mtype\u001b[39m(\u001b[39mself\u001b[39m)\u001b[39m.\u001b[39mfrom_array(res, index)\n",
      "File \u001b[0;32m~/anaconda3/lib/python3.10/site-packages/pandas/core/groupby/groupby.py:1804\u001b[0m, in \u001b[0;36mGroupBy._cython_agg_general.<locals>.array_func\u001b[0;34m(values)\u001b[0m\n\u001b[1;32m   1791\u001b[0m     result \u001b[39m=\u001b[39m \u001b[39mself\u001b[39m\u001b[39m.\u001b[39mgrouper\u001b[39m.\u001b[39m_cython_operation(\n\u001b[1;32m   1792\u001b[0m         \u001b[39m\"\u001b[39m\u001b[39maggregate\u001b[39m\u001b[39m\"\u001b[39m,\n\u001b[1;32m   1793\u001b[0m         values,\n\u001b[0;32m   (...)\u001b[0m\n\u001b[1;32m   1797\u001b[0m         \u001b[39m*\u001b[39m\u001b[39m*\u001b[39mkwargs,\n\u001b[1;32m   1798\u001b[0m     )\n\u001b[1;32m   1799\u001b[0m \u001b[39mexcept\u001b[39;00m \u001b[39mNotImplementedError\u001b[39;00m:\n\u001b[1;32m   1800\u001b[0m     \u001b[39m# generally if we have numeric_only=False\u001b[39;00m\n\u001b[1;32m   1801\u001b[0m     \u001b[39m# and non-applicable functions\u001b[39;00m\n\u001b[1;32m   1802\u001b[0m     \u001b[39m# try to python agg\u001b[39;00m\n\u001b[1;32m   1803\u001b[0m     \u001b[39m# TODO: shouldn't min_count matter?\u001b[39;00m\n\u001b[0;32m-> 1804\u001b[0m     result \u001b[39m=\u001b[39m \u001b[39mself\u001b[39;49m\u001b[39m.\u001b[39;49m_agg_py_fallback(values, ndim\u001b[39m=\u001b[39;49mdata\u001b[39m.\u001b[39;49mndim, alt\u001b[39m=\u001b[39;49malt)\n\u001b[1;32m   1806\u001b[0m \u001b[39mreturn\u001b[39;00m result\n",
      "File \u001b[0;32m~/anaconda3/lib/python3.10/site-packages/pandas/core/groupby/groupby.py:1745\u001b[0m, in \u001b[0;36mGroupBy._agg_py_fallback\u001b[0;34m(self, values, ndim, alt)\u001b[0m\n\u001b[1;32m   1740\u001b[0m     ser \u001b[39m=\u001b[39m df\u001b[39m.\u001b[39miloc[:, \u001b[39m0\u001b[39m]\n\u001b[1;32m   1742\u001b[0m \u001b[39m# We do not get here with UDFs, so we know that our dtype\u001b[39;00m\n\u001b[1;32m   1743\u001b[0m \u001b[39m#  should always be preserved by the implemented aggregations\u001b[39;00m\n\u001b[1;32m   1744\u001b[0m \u001b[39m# TODO: Is this exactly right; see WrappedCythonOp get_result_dtype?\u001b[39;00m\n\u001b[0;32m-> 1745\u001b[0m res_values \u001b[39m=\u001b[39m \u001b[39mself\u001b[39;49m\u001b[39m.\u001b[39;49mgrouper\u001b[39m.\u001b[39;49magg_series(ser, alt, preserve_dtype\u001b[39m=\u001b[39;49m\u001b[39mTrue\u001b[39;49;00m)\n\u001b[1;32m   1747\u001b[0m \u001b[39mif\u001b[39;00m \u001b[39misinstance\u001b[39m(values, Categorical):\n\u001b[1;32m   1748\u001b[0m     \u001b[39m# Because we only get here with known dtype-preserving\u001b[39;00m\n\u001b[1;32m   1749\u001b[0m     \u001b[39m#  reductions, we cast back to Categorical.\u001b[39;00m\n\u001b[1;32m   1750\u001b[0m     \u001b[39m# TODO: if we ever get \"rank\" working, exclude it here.\u001b[39;00m\n\u001b[1;32m   1751\u001b[0m     res_values \u001b[39m=\u001b[39m \u001b[39mtype\u001b[39m(values)\u001b[39m.\u001b[39m_from_sequence(res_values, dtype\u001b[39m=\u001b[39mvalues\u001b[39m.\u001b[39mdtype)\n",
      "File \u001b[0;32m~/anaconda3/lib/python3.10/site-packages/pandas/core/groupby/ops.py:1081\u001b[0m, in \u001b[0;36mBaseGrouper.agg_series\u001b[0;34m(self, obj, func, preserve_dtype)\u001b[0m\n\u001b[1;32m   1078\u001b[0m     preserve_dtype \u001b[39m=\u001b[39m \u001b[39mTrue\u001b[39;00m\n\u001b[1;32m   1080\u001b[0m \u001b[39melse\u001b[39;00m:\n\u001b[0;32m-> 1081\u001b[0m     result \u001b[39m=\u001b[39m \u001b[39mself\u001b[39;49m\u001b[39m.\u001b[39;49m_aggregate_series_pure_python(obj, func)\n\u001b[1;32m   1083\u001b[0m npvalues \u001b[39m=\u001b[39m lib\u001b[39m.\u001b[39mmaybe_convert_objects(result, try_float\u001b[39m=\u001b[39m\u001b[39mFalse\u001b[39;00m)\n\u001b[1;32m   1084\u001b[0m \u001b[39mif\u001b[39;00m preserve_dtype:\n",
      "File \u001b[0;32m~/anaconda3/lib/python3.10/site-packages/pandas/core/groupby/ops.py:1104\u001b[0m, in \u001b[0;36mBaseGrouper._aggregate_series_pure_python\u001b[0;34m(self, obj, func)\u001b[0m\n\u001b[1;32m   1101\u001b[0m splitter \u001b[39m=\u001b[39m get_splitter(obj, ids, ngroups, axis\u001b[39m=\u001b[39m\u001b[39m0\u001b[39m)\n\u001b[1;32m   1103\u001b[0m \u001b[39mfor\u001b[39;00m i, group \u001b[39min\u001b[39;00m \u001b[39menumerate\u001b[39m(splitter):\n\u001b[0;32m-> 1104\u001b[0m     res \u001b[39m=\u001b[39m func(group)\n\u001b[1;32m   1105\u001b[0m     res \u001b[39m=\u001b[39m libreduction\u001b[39m.\u001b[39mextract_result(res)\n\u001b[1;32m   1107\u001b[0m     \u001b[39mif\u001b[39;00m \u001b[39mnot\u001b[39;00m initialized:\n\u001b[1;32m   1108\u001b[0m         \u001b[39m# We only do this validation on the first iteration\u001b[39;00m\n",
      "File \u001b[0;32m~/anaconda3/lib/python3.10/site-packages/pandas/core/groupby/groupby.py:2185\u001b[0m, in \u001b[0;36mGroupBy.mean.<locals>.<lambda>\u001b[0;34m(x)\u001b[0m\n\u001b[1;32m   2181\u001b[0m     \u001b[39mreturn\u001b[39;00m \u001b[39mself\u001b[39m\u001b[39m.\u001b[39m_numba_agg_general(sliding_mean, engine_kwargs)\n\u001b[1;32m   2182\u001b[0m \u001b[39melse\u001b[39;00m:\n\u001b[1;32m   2183\u001b[0m     result \u001b[39m=\u001b[39m \u001b[39mself\u001b[39m\u001b[39m.\u001b[39m_cython_agg_general(\n\u001b[1;32m   2184\u001b[0m         \u001b[39m\"\u001b[39m\u001b[39mmean\u001b[39m\u001b[39m\"\u001b[39m,\n\u001b[0;32m-> 2185\u001b[0m         alt\u001b[39m=\u001b[39m\u001b[39mlambda\u001b[39;00m x: Series(x)\u001b[39m.\u001b[39;49mmean(numeric_only\u001b[39m=\u001b[39;49mnumeric_only_bool),\n\u001b[1;32m   2186\u001b[0m         numeric_only\u001b[39m=\u001b[39mnumeric_only,\n\u001b[1;32m   2187\u001b[0m     )\n\u001b[1;32m   2188\u001b[0m     \u001b[39mreturn\u001b[39;00m result\u001b[39m.\u001b[39m__finalize__(\u001b[39mself\u001b[39m\u001b[39m.\u001b[39mobj, method\u001b[39m=\u001b[39m\u001b[39m\"\u001b[39m\u001b[39mgroupby\u001b[39m\u001b[39m\"\u001b[39m)\n",
      "File \u001b[0;32m~/anaconda3/lib/python3.10/site-packages/pandas/core/generic.py:11847\u001b[0m, in \u001b[0;36mNDFrame._add_numeric_operations.<locals>.mean\u001b[0;34m(self, axis, skipna, level, numeric_only, **kwargs)\u001b[0m\n\u001b[1;32m  11829\u001b[0m \u001b[39m@doc\u001b[39m(\n\u001b[1;32m  11830\u001b[0m     _num_doc,\n\u001b[1;32m  11831\u001b[0m     desc\u001b[39m=\u001b[39m\u001b[39m\"\u001b[39m\u001b[39mReturn the mean of the values over the requested axis.\u001b[39m\u001b[39m\"\u001b[39m,\n\u001b[0;32m   (...)\u001b[0m\n\u001b[1;32m  11845\u001b[0m     \u001b[39m*\u001b[39m\u001b[39m*\u001b[39mkwargs,\n\u001b[1;32m  11846\u001b[0m ):\n\u001b[0;32m> 11847\u001b[0m     \u001b[39mreturn\u001b[39;00m NDFrame\u001b[39m.\u001b[39;49mmean(\u001b[39mself\u001b[39;49m, axis, skipna, level, numeric_only, \u001b[39m*\u001b[39;49m\u001b[39m*\u001b[39;49mkwargs)\n",
      "File \u001b[0;32m~/anaconda3/lib/python3.10/site-packages/pandas/core/generic.py:11401\u001b[0m, in \u001b[0;36mNDFrame.mean\u001b[0;34m(self, axis, skipna, level, numeric_only, **kwargs)\u001b[0m\n\u001b[1;32m  11393\u001b[0m \u001b[39mdef\u001b[39;00m \u001b[39mmean\u001b[39m(\n\u001b[1;32m  11394\u001b[0m     \u001b[39mself\u001b[39m,\n\u001b[1;32m  11395\u001b[0m     axis: Axis \u001b[39m|\u001b[39m \u001b[39mNone\u001b[39;00m \u001b[39m|\u001b[39m lib\u001b[39m.\u001b[39mNoDefault \u001b[39m=\u001b[39m lib\u001b[39m.\u001b[39mno_default,\n\u001b[0;32m   (...)\u001b[0m\n\u001b[1;32m  11399\u001b[0m     \u001b[39m*\u001b[39m\u001b[39m*\u001b[39mkwargs,\n\u001b[1;32m  11400\u001b[0m ) \u001b[39m-\u001b[39m\u001b[39m>\u001b[39m Series \u001b[39m|\u001b[39m \u001b[39mfloat\u001b[39m:\n\u001b[0;32m> 11401\u001b[0m     \u001b[39mreturn\u001b[39;00m \u001b[39mself\u001b[39;49m\u001b[39m.\u001b[39;49m_stat_function(\n\u001b[1;32m  11402\u001b[0m         \u001b[39m\"\u001b[39;49m\u001b[39mmean\u001b[39;49m\u001b[39m\"\u001b[39;49m, nanops\u001b[39m.\u001b[39;49mnanmean, axis, skipna, level, numeric_only, \u001b[39m*\u001b[39;49m\u001b[39m*\u001b[39;49mkwargs\n\u001b[1;32m  11403\u001b[0m     )\n",
      "File \u001b[0;32m~/anaconda3/lib/python3.10/site-packages/pandas/core/generic.py:11353\u001b[0m, in \u001b[0;36mNDFrame._stat_function\u001b[0;34m(self, name, func, axis, skipna, level, numeric_only, **kwargs)\u001b[0m\n\u001b[1;32m  11343\u001b[0m     warnings\u001b[39m.\u001b[39mwarn(\n\u001b[1;32m  11344\u001b[0m         \u001b[39m\"\u001b[39m\u001b[39mUsing the level keyword in DataFrame and Series aggregations is \u001b[39m\u001b[39m\"\u001b[39m\n\u001b[1;32m  11345\u001b[0m         \u001b[39m\"\u001b[39m\u001b[39mdeprecated and will be removed in a future version. Use groupby \u001b[39m\u001b[39m\"\u001b[39m\n\u001b[0;32m   (...)\u001b[0m\n\u001b[1;32m  11348\u001b[0m         stacklevel\u001b[39m=\u001b[39mfind_stack_level(),\n\u001b[1;32m  11349\u001b[0m     )\n\u001b[1;32m  11350\u001b[0m     \u001b[39mreturn\u001b[39;00m \u001b[39mself\u001b[39m\u001b[39m.\u001b[39m_agg_by_level(\n\u001b[1;32m  11351\u001b[0m         name, axis\u001b[39m=\u001b[39maxis, level\u001b[39m=\u001b[39mlevel, skipna\u001b[39m=\u001b[39mskipna, numeric_only\u001b[39m=\u001b[39mnumeric_only\n\u001b[1;32m  11352\u001b[0m     )\n\u001b[0;32m> 11353\u001b[0m \u001b[39mreturn\u001b[39;00m \u001b[39mself\u001b[39;49m\u001b[39m.\u001b[39;49m_reduce(\n\u001b[1;32m  11354\u001b[0m     func, name\u001b[39m=\u001b[39;49mname, axis\u001b[39m=\u001b[39;49maxis, skipna\u001b[39m=\u001b[39;49mskipna, numeric_only\u001b[39m=\u001b[39;49mnumeric_only\n\u001b[1;32m  11355\u001b[0m )\n",
      "File \u001b[0;32m~/anaconda3/lib/python3.10/site-packages/pandas/core/series.py:4816\u001b[0m, in \u001b[0;36mSeries._reduce\u001b[0;34m(self, op, name, axis, skipna, numeric_only, filter_type, **kwds)\u001b[0m\n\u001b[1;32m   4812\u001b[0m     \u001b[39mraise\u001b[39;00m \u001b[39mNotImplementedError\u001b[39;00m(\n\u001b[1;32m   4813\u001b[0m         \u001b[39mf\u001b[39m\u001b[39m\"\u001b[39m\u001b[39mSeries.\u001b[39m\u001b[39m{\u001b[39;00mname\u001b[39m}\u001b[39;00m\u001b[39m does not implement \u001b[39m\u001b[39m{\u001b[39;00mkwd_name\u001b[39m}\u001b[39;00m\u001b[39m.\u001b[39m\u001b[39m\"\u001b[39m\n\u001b[1;32m   4814\u001b[0m     )\n\u001b[1;32m   4815\u001b[0m \u001b[39mwith\u001b[39;00m np\u001b[39m.\u001b[39merrstate(\u001b[39mall\u001b[39m\u001b[39m=\u001b[39m\u001b[39m\"\u001b[39m\u001b[39mignore\u001b[39m\u001b[39m\"\u001b[39m):\n\u001b[0;32m-> 4816\u001b[0m     \u001b[39mreturn\u001b[39;00m op(delegate, skipna\u001b[39m=\u001b[39;49mskipna, \u001b[39m*\u001b[39;49m\u001b[39m*\u001b[39;49mkwds)\n",
      "File \u001b[0;32m~/anaconda3/lib/python3.10/site-packages/pandas/core/nanops.py:93\u001b[0m, in \u001b[0;36mdisallow.__call__.<locals>._f\u001b[0;34m(*args, **kwargs)\u001b[0m\n\u001b[1;32m     91\u001b[0m \u001b[39mtry\u001b[39;00m:\n\u001b[1;32m     92\u001b[0m     \u001b[39mwith\u001b[39;00m np\u001b[39m.\u001b[39merrstate(invalid\u001b[39m=\u001b[39m\u001b[39m\"\u001b[39m\u001b[39mignore\u001b[39m\u001b[39m\"\u001b[39m):\n\u001b[0;32m---> 93\u001b[0m         \u001b[39mreturn\u001b[39;00m f(\u001b[39m*\u001b[39;49margs, \u001b[39m*\u001b[39;49m\u001b[39m*\u001b[39;49mkwargs)\n\u001b[1;32m     94\u001b[0m \u001b[39mexcept\u001b[39;00m \u001b[39mValueError\u001b[39;00m \u001b[39mas\u001b[39;00m e:\n\u001b[1;32m     95\u001b[0m     \u001b[39m# we want to transform an object array\u001b[39;00m\n\u001b[1;32m     96\u001b[0m     \u001b[39m# ValueError message to the more typical TypeError\u001b[39;00m\n\u001b[1;32m     97\u001b[0m     \u001b[39m# e.g. this is normally a disallowed function on\u001b[39;00m\n\u001b[1;32m     98\u001b[0m     \u001b[39m# object arrays that contain strings\u001b[39;00m\n\u001b[1;32m     99\u001b[0m     \u001b[39mif\u001b[39;00m is_object_dtype(args[\u001b[39m0\u001b[39m]):\n",
      "File \u001b[0;32m~/anaconda3/lib/python3.10/site-packages/pandas/core/nanops.py:155\u001b[0m, in \u001b[0;36mbottleneck_switch.__call__.<locals>.f\u001b[0;34m(values, axis, skipna, **kwds)\u001b[0m\n\u001b[1;32m    153\u001b[0m         result \u001b[39m=\u001b[39m alt(values, axis\u001b[39m=\u001b[39maxis, skipna\u001b[39m=\u001b[39mskipna, \u001b[39m*\u001b[39m\u001b[39m*\u001b[39mkwds)\n\u001b[1;32m    154\u001b[0m \u001b[39melse\u001b[39;00m:\n\u001b[0;32m--> 155\u001b[0m     result \u001b[39m=\u001b[39m alt(values, axis\u001b[39m=\u001b[39;49maxis, skipna\u001b[39m=\u001b[39;49mskipna, \u001b[39m*\u001b[39;49m\u001b[39m*\u001b[39;49mkwds)\n\u001b[1;32m    157\u001b[0m \u001b[39mreturn\u001b[39;00m result\n",
      "File \u001b[0;32m~/anaconda3/lib/python3.10/site-packages/pandas/core/nanops.py:418\u001b[0m, in \u001b[0;36m_datetimelike_compat.<locals>.new_func\u001b[0;34m(values, axis, skipna, mask, **kwargs)\u001b[0m\n\u001b[1;32m    415\u001b[0m \u001b[39mif\u001b[39;00m datetimelike \u001b[39mand\u001b[39;00m mask \u001b[39mis\u001b[39;00m \u001b[39mNone\u001b[39;00m:\n\u001b[1;32m    416\u001b[0m     mask \u001b[39m=\u001b[39m isna(values)\n\u001b[0;32m--> 418\u001b[0m result \u001b[39m=\u001b[39m func(values, axis\u001b[39m=\u001b[39;49maxis, skipna\u001b[39m=\u001b[39;49mskipna, mask\u001b[39m=\u001b[39;49mmask, \u001b[39m*\u001b[39;49m\u001b[39m*\u001b[39;49mkwargs)\n\u001b[1;32m    420\u001b[0m \u001b[39mif\u001b[39;00m datetimelike:\n\u001b[1;32m    421\u001b[0m     result \u001b[39m=\u001b[39m _wrap_results(result, orig_values\u001b[39m.\u001b[39mdtype, fill_value\u001b[39m=\u001b[39miNaT)\n",
      "File \u001b[0;32m~/anaconda3/lib/python3.10/site-packages/pandas/core/nanops.py:706\u001b[0m, in \u001b[0;36mnanmean\u001b[0;34m(values, axis, skipna, mask)\u001b[0m\n\u001b[1;32m    703\u001b[0m     dtype_count \u001b[39m=\u001b[39m dtype\n\u001b[1;32m    705\u001b[0m count \u001b[39m=\u001b[39m _get_counts(values\u001b[39m.\u001b[39mshape, mask, axis, dtype\u001b[39m=\u001b[39mdtype_count)\n\u001b[0;32m--> 706\u001b[0m the_sum \u001b[39m=\u001b[39m _ensure_numeric(values\u001b[39m.\u001b[39;49msum(axis, dtype\u001b[39m=\u001b[39;49mdtype_sum))\n\u001b[1;32m    708\u001b[0m \u001b[39mif\u001b[39;00m axis \u001b[39mis\u001b[39;00m \u001b[39mnot\u001b[39;00m \u001b[39mNone\u001b[39;00m \u001b[39mand\u001b[39;00m \u001b[39mgetattr\u001b[39m(the_sum, \u001b[39m\"\u001b[39m\u001b[39mndim\u001b[39m\u001b[39m\"\u001b[39m, \u001b[39mFalse\u001b[39;00m):\n\u001b[1;32m    709\u001b[0m     count \u001b[39m=\u001b[39m cast(np\u001b[39m.\u001b[39mndarray, count)\n",
      "File \u001b[0;32m~/anaconda3/lib/python3.10/site-packages/pandas/core/nanops.py:1637\u001b[0m, in \u001b[0;36m_ensure_numeric\u001b[0;34m(x)\u001b[0m\n\u001b[1;32m   1634\u001b[0m             x \u001b[39m=\u001b[39m \u001b[39mcomplex\u001b[39m(x)\n\u001b[1;32m   1635\u001b[0m         \u001b[39mexcept\u001b[39;00m \u001b[39mValueError\u001b[39;00m \u001b[39mas\u001b[39;00m err:\n\u001b[1;32m   1636\u001b[0m             \u001b[39m# e.g. \"foo\"\u001b[39;00m\n\u001b[0;32m-> 1637\u001b[0m             \u001b[39mraise\u001b[39;00m \u001b[39mTypeError\u001b[39;00m(\u001b[39mf\u001b[39m\u001b[39m\"\u001b[39m\u001b[39mCould not convert \u001b[39m\u001b[39m{\u001b[39;00mx\u001b[39m}\u001b[39;00m\u001b[39m to numeric\u001b[39m\u001b[39m\"\u001b[39m) \u001b[39mfrom\u001b[39;00m \u001b[39merr\u001b[39;00m\n\u001b[1;32m   1638\u001b[0m \u001b[39mreturn\u001b[39;00m x\n",
      "\u001b[0;31mTypeError\u001b[0m: Could not convert school_students_passing_math_and_reading/school_dataschool_students_passing_math_and_reading/school_dataschool_students_passing_math_and_reading/school_dataschool_students_passing_math_and_reading/school_dataschool_students_passing_math_and_reading/school_dataschool_students_passing_math_and_reading/school_dataschool_students_passing_math_and_reading/school_dataschool_students_passing_math_and_reading/school_dataschool_students_passing_math_and_reading/school_dataschool_students_passing_math_and_reading/school_dataschool_students_passing_math_and_reading/school_dataschool_students_passing_math_and_reading/school_dataschool_students_passing_math_and_reading/school_dataschool_students_passing_math_and_reading/school_dataschool_students_passing_math_and_reading/school_dataschool_students_passing_math_and_reading/school_dataschool_students_passing_math_and_reading/school_dataschool_students_passing_math_and_reading/school_dataschool_students_passing_math_and_reading/school_dataschool_students_passing_math_and_reading/school_dataschool_students_passing_math_and_reading/school_dataschool_students_passing_math_and_reading/school_dataschool_students_passing_math_and_reading/school_dataschool_students_passing_math_and_reading/school_dataschool_students_passing_math_and_reading/school_dataschool_students_passing_math_and_reading/school_dataschool_students_passing_math_and_reading/school_dataschool_students_passing_math_and_reading/school_dataschool_students_passing_math_and_reading/school_dataschool_students_passing_math_and_reading/school_dataschool_students_passing_math_and_reading/school_dataschool_students_passing_math_and_reading/school_dataschool_students_passing_math_and_reading/school_dataschool_students_passing_math_and_reading/school_dataschool_students_passing_math_and_reading/school_dataschool_students_passing_math_and_reading/school_dataschool_students_passing_math_and_reading/school_dataschool_students_passing_math_and_reading/school_dataschool_students_passing_math_and_reading/school_dataschool_students_passing_math_and_reading/school_dataschool_students_passing_math_and_reading/school_dataschool_students_passing_math_and_reading/school_dataschool_students_passing_math_and_reading/school_dataschool_students_passing_math_and_reading/school_dataschool_students_passing_math_and_reading/school_dataschool_students_passing_math_and_reading/school_dataschool_students_passing_math_and_reading/school_dataschool_students_passing_math_and_reading/school_dataschool_students_passing_math_and_reading/school_dataschool_students_passing_math_and_reading/school_dataschool_students_passing_math_and_reading/school_dataschool_students_passing_math_and_reading/school_dataschool_students_passing_math_and_reading/school_dataschool_students_passing_math_and_reading/school_dataschool_students_passing_math_and_reading/school_dataschool_students_passing_math_and_reading/school_dataschool_students_passing_math_and_reading/school_dataschool_students_passing_math_and_reading/school_dataschool_students_passing_math_and_reading/school_dataschool_students_passing_math_and_reading/school_dataschool_students_passing_math_and_reading/school_dataschool_students_passing_math_and_reading/school_dataschool_students_passing_math_and_reading/school_dataschool_students_passing_math_and_reading/school_dataschool_students_passing_math_and_reading/school_dataschool_students_passing_math_and_reading/school_dataschool_students_passing_math_and_reading/school_dataschool_students_passing_math_and_reading/school_dataschool_students_passing_math_and_reading/school_dataschool_students_passing_math_and_reading/school_dataschool_students_passing_math_and_reading/school_dataschool_students_passing_math_and_reading/school_dataschool_students_passing_math_and_reading/school_dataschool_students_passing_math_and_reading/school_dataschool_students_passing_math_and_reading/school_dataschool_students_passing_math_and_reading/school_dataschool_students_passing_math_and_reading/school_dataschool_students_passing_math_and_reading/school_dataschool_students_passing_math_and_reading/school_dataschool_students_passing_math_and_reading/school_dataschool_students_passing_math_and_reading/school_dataschool_students_passing_math_and_reading/school_dataschool_students_passing_math_and_reading/school_dataschool_students_passing_math_and_reading/school_dataschool_students_passing_math_and_reading/school_dataschool_students_passing_math_and_reading/school_dataschool_students_passing_math_and_reading/school_dataschool_students_passing_math_and_reading/school_dataschool_students_passing_math_and_reading/school_dataschool_students_passing_math_and_reading/school_dataschool_students_passing_math_and_reading/school_dataschool_students_passing_math_and_reading/school_dataschool_students_passing_math_and_reading/school_dataschool_students_passing_math_and_reading/school_dataschool_students_passing_math_and_reading/school_dataschool_students_passing_math_and_reading/school_dataschool_students_passing_math_and_reading/school_dataschool_students_passing_math_and_reading/school_dataschool_students_passing_math_and_reading/school_dataschool_students_passing_math_and_reading/school_data to numeric"
     ]
    }
   ],
   "source": [
    "#  Calculate averages for the desired columns. \n",
    "spending_math_scores = school_spending_df.groupby([\"Spending Ranges (Per Student)\"])[\"Average Math Score\"].mean()\n",
    "spending_reading_scores = school_spending_df.groupby([\"Spending Ranges (Per Student)\"])[\"Average Reading Score\"].mean()\n",
    "spending_passing_math = school_spending_df.groupby([\"Spending Ranges (Per Student)\"])[\"% Students Passing Math\"].mean()\n",
    "spending_passing_reading = school_spending_df.groupby([\"Spending Ranges (Per Student)\"])[\"% Students Passing Reading\"].mean()\n",
    "overall_passing_spending = school_spending_df.groupby([\"Spending Ranges (Per Student)\"])[\"% Students Passing Both Math & Reading\"].mean()"
   ]
  },
  {
   "cell_type": "code",
   "execution_count": 32,
   "metadata": {},
   "outputs": [
    {
     "data": {
      "text/html": [
       "<div>\n",
       "<style scoped>\n",
       "    .dataframe tbody tr th:only-of-type {\n",
       "        vertical-align: middle;\n",
       "    }\n",
       "\n",
       "    .dataframe tbody tr th {\n",
       "        vertical-align: top;\n",
       "    }\n",
       "\n",
       "    .dataframe thead th {\n",
       "        text-align: right;\n",
       "    }\n",
       "</style>\n",
       "<table border=\"1\" class=\"dataframe\">\n",
       "  <thead>\n",
       "    <tr style=\"text-align: right;\">\n",
       "      <th></th>\n",
       "      <th>Average Math Score</th>\n",
       "      <th>Average Reading Score</th>\n",
       "      <th>% Students Passing Math</th>\n",
       "      <th>% Students Passing Reading</th>\n",
       "      <th>% Students Passing Both Math and Reading</th>\n",
       "    </tr>\n",
       "  </thead>\n",
       "  <tbody>\n",
       "    <tr>\n",
       "      <th>Spending Ranges (Per Student)</th>\n",
       "      <td>78.985371</td>\n",
       "      <td>81.87784</td>\n",
       "      <td>74.980853</td>\n",
       "      <td>85.805463</td>\n",
       "      <td>school_students_passing_math_and_reading/schoo...</td>\n",
       "    </tr>\n",
       "  </tbody>\n",
       "</table>\n",
       "</div>"
      ],
      "text/plain": [
       "                               Average Math Score  Average Reading Score  \\\n",
       "Spending Ranges (Per Student)           78.985371               81.87784   \n",
       "\n",
       "                               % Students Passing Math  \\\n",
       "Spending Ranges (Per Student)                74.980853   \n",
       "\n",
       "                               % Students Passing Reading  \\\n",
       "Spending Ranges (Per Student)                   85.805463   \n",
       "\n",
       "                                        % Students Passing Both Math and Reading  \n",
       "Spending Ranges (Per Student)  school_students_passing_math_and_reading/schoo...  "
      ]
     },
     "execution_count": 32,
     "metadata": {},
     "output_type": "execute_result"
    }
   ],
   "source": [
    "# Assemble into DataFrame\n",
    "spending_summary_df = pd.DataFrame({\n",
    "          \"Average Math Score\" : spending_math_scores,\n",
    "          \"Average Reading Score\": spending_reading_scores,\n",
    "          \"% Students Passing Math\": spending_passing_math,\n",
    "          \"% Students Passing Reading\": spending_passing_reading,\n",
    "          \"% Students Passing Both Math and Reading\": overall_passing_rate})\n",
    "spending_summary_df"
   ]
  },
  {
   "cell_type": "markdown",
   "metadata": {},
   "source": [
    "## Scores by School Size"
   ]
  },
  {
   "cell_type": "code",
   "execution_count": 33,
   "metadata": {},
   "outputs": [],
   "source": [
    "# Establish the bins.\n",
    "size_bins = [0, 1000, 2000, 5000]\n",
    "labels = [\"Small (<1000)\", \"Medium (1000-2000)\", \"Large (2000-5000)\"]"
   ]
  },
  {
   "cell_type": "code",
   "execution_count": 53,
   "metadata": {},
   "outputs": [
    {
     "data": {
      "text/html": [
       "<div>\n",
       "<style scoped>\n",
       "    .dataframe tbody tr th:only-of-type {\n",
       "        vertical-align: middle;\n",
       "    }\n",
       "\n",
       "    .dataframe tbody tr th {\n",
       "        vertical-align: top;\n",
       "    }\n",
       "\n",
       "    .dataframe thead th {\n",
       "        text-align: right;\n",
       "    }\n",
       "</style>\n",
       "<table border=\"1\" class=\"dataframe\">\n",
       "  <thead>\n",
       "    <tr style=\"text-align: right;\">\n",
       "      <th></th>\n",
       "      <th>Total Schools</th>\n",
       "      <th>Total Students</th>\n",
       "      <th>Total School Budget</th>\n",
       "      <th>Average Math Score</th>\n",
       "      <th>Average Reading Score</th>\n",
       "      <th>% Students Passing Math</th>\n",
       "      <th>% Students Passing Reading</th>\n",
       "      <th>% Students Passing Both Math &amp; Reading</th>\n",
       "      <th>Per Student Budget</th>\n",
       "      <th>Spending Ranges (Per Student)</th>\n",
       "      <th>School Size</th>\n",
       "    </tr>\n",
       "  </thead>\n",
       "  <tbody>\n",
       "    <tr>\n",
       "      <th>0</th>\n",
       "      <td>15</td>\n",
       "      <td>39170</td>\n",
       "      <td>24649428</td>\n",
       "      <td>78.985371</td>\n",
       "      <td>81.87784</td>\n",
       "      <td>74.980853</td>\n",
       "      <td>85.805463</td>\n",
       "      <td>school_students_passing_math_and_reading/schoo...</td>\n",
       "      <td>629.293541</td>\n",
       "      <td>(585, 630]</td>\n",
       "      <td>NaN</td>\n",
       "    </tr>\n",
       "  </tbody>\n",
       "</table>\n",
       "</div>"
      ],
      "text/plain": [
       "   Total Schools  Total Students  Total School Budget  Average Math Score  \\\n",
       "0             15           39170             24649428           78.985371   \n",
       "\n",
       "   Average Reading Score  % Students Passing Math  % Students Passing Reading  \\\n",
       "0               81.87784                74.980853                   85.805463   \n",
       "\n",
       "              % Students Passing Both Math & Reading  Per Student Budget  \\\n",
       "0  school_students_passing_math_and_reading/schoo...          629.293541   \n",
       "\n",
       "  Spending Ranges (Per Student) School Size  \n",
       "0                    (585, 630]         NaN  "
      ]
     },
     "execution_count": 53,
     "metadata": {},
     "output_type": "execute_result"
    }
   ],
   "source": [
    "# Categorize the spending based on the bins\n",
    "# Use `pd.cut` on the \"Total Students\" column of the `per_school_summary` DataFrame.\n",
    "per_school_summary[\"School Size\"] = pd.cut(per_school_summary[\"Total Students\"], \n",
    "                                              size_bins, labels=labels, \n",
    "                                              include_lowest=True)\n",
    "per_school_summary"
   ]
  },
  {
   "cell_type": "code",
   "execution_count": 54,
   "metadata": {},
   "outputs": [],
   "source": [
    "# Calculate averages for the desired columns. \n",
    "size_math_scores = per_school_summary.groupby([\"School Size\"])[\"Average Math Score\"].mean()\n",
    "size_reading_scores = per_school_summary.groupby([\"School Size\"])[\"Average Reading Score\"].mean()\n",
    "size_passing_math = per_school_summary.groupby([\"School Size\"])[\"% Students Passing Math\"].mean()\n",
    "size_passing_reading = per_school_summary.groupby([\"School Size\"])[\"% Students Passing Reading\"].mean()\n",
    "size_overall_passing = per_school_summary.groupby([\"School Size\"])[\"% Students Passing Both Math & Reading\"].mean()"
   ]
  },
  {
   "cell_type": "code",
   "execution_count": 56,
   "metadata": {
    "scrolled": true
   },
   "outputs": [
    {
     "data": {
      "text/html": [
       "<div>\n",
       "<style scoped>\n",
       "    .dataframe tbody tr th:only-of-type {\n",
       "        vertical-align: middle;\n",
       "    }\n",
       "\n",
       "    .dataframe tbody tr th {\n",
       "        vertical-align: top;\n",
       "    }\n",
       "\n",
       "    .dataframe thead th {\n",
       "        text-align: right;\n",
       "    }\n",
       "</style>\n",
       "<table border=\"1\" class=\"dataframe\">\n",
       "  <thead>\n",
       "    <tr style=\"text-align: right;\">\n",
       "      <th></th>\n",
       "      <th>Average Math Score</th>\n",
       "      <th>Average Reading Score</th>\n",
       "      <th>% Students Passing Math</th>\n",
       "      <th>% Students Passing Reading</th>\n",
       "      <th>% Students Passing Both Math &amp; Reading</th>\n",
       "    </tr>\n",
       "    <tr>\n",
       "      <th>School Size</th>\n",
       "      <th></th>\n",
       "      <th></th>\n",
       "      <th></th>\n",
       "      <th></th>\n",
       "      <th></th>\n",
       "    </tr>\n",
       "  </thead>\n",
       "  <tbody>\n",
       "    <tr>\n",
       "      <th>Small (&lt;1000)</th>\n",
       "      <td>NaN</td>\n",
       "      <td>NaN</td>\n",
       "      <td>NaN</td>\n",
       "      <td>NaN</td>\n",
       "      <td>NaN</td>\n",
       "    </tr>\n",
       "    <tr>\n",
       "      <th>Medium (1000-2000)</th>\n",
       "      <td>NaN</td>\n",
       "      <td>NaN</td>\n",
       "      <td>NaN</td>\n",
       "      <td>NaN</td>\n",
       "      <td>NaN</td>\n",
       "    </tr>\n",
       "    <tr>\n",
       "      <th>Large (2000-5000)</th>\n",
       "      <td>NaN</td>\n",
       "      <td>NaN</td>\n",
       "      <td>NaN</td>\n",
       "      <td>NaN</td>\n",
       "      <td>NaN</td>\n",
       "    </tr>\n",
       "  </tbody>\n",
       "</table>\n",
       "</div>"
      ],
      "text/plain": [
       "                    Average Math Score  Average Reading Score  \\\n",
       "School Size                                                     \n",
       "Small (<1000)                      NaN                    NaN   \n",
       "Medium (1000-2000)                 NaN                    NaN   \n",
       "Large (2000-5000)                  NaN                    NaN   \n",
       "\n",
       "                    % Students Passing Math  % Students Passing Reading  \\\n",
       "School Size                                                               \n",
       "Small (<1000)                           NaN                         NaN   \n",
       "Medium (1000-2000)                      NaN                         NaN   \n",
       "Large (2000-5000)                       NaN                         NaN   \n",
       "\n",
       "                    % Students Passing Both Math & Reading  \n",
       "School Size                                                 \n",
       "Small (<1000)                                          NaN  \n",
       "Medium (1000-2000)                                     NaN  \n",
       "Large (2000-5000)                                      NaN  "
      ]
     },
     "execution_count": 56,
     "metadata": {},
     "output_type": "execute_result"
    }
   ],
   "source": [
    "# Create a DataFrame called `size_summary` that breaks down school performance based on school size (small, medium, or large).\n",
    "# Use the scores above to create a new DataFrame called `size_summary`\n",
    "size_summary = pd.DataFrame({\n",
    "    \"Average Math Score\" : size_math_scores,\n",
    "    \"Average Reading Score\" : size_reading_scores,\n",
    "    \"% Students Passing Math\" : size_passing_math,\n",
    "    \"% Students Passing Reading\" : size_passing_reading,\n",
    "    \"% Students Passing Both Math & Reading\" : size_overall_passing\n",
    "})\n",
    "size_summary"
   ]
  },
  {
   "cell_type": "markdown",
   "metadata": {},
   "source": [
    "## Scores by School Type"
   ]
  },
  {
   "cell_type": "code",
   "execution_count": 58,
   "metadata": {},
   "outputs": [
    {
     "ename": "TypeError",
     "evalue": "Could not convert school_students_passing_math_and_reading/school_dataschool_students_passing_math_and_reading/school_dataschool_students_passing_math_and_reading/school_dataschool_students_passing_math_and_reading/school_dataschool_students_passing_math_and_reading/school_dataschool_students_passing_math_and_reading/school_dataschool_students_passing_math_and_reading/school_dataschool_students_passing_math_and_reading/school_dataschool_students_passing_math_and_reading/school_dataschool_students_passing_math_and_reading/school_dataschool_students_passing_math_and_reading/school_dataschool_students_passing_math_and_reading/school_dataschool_students_passing_math_and_reading/school_dataschool_students_passing_math_and_reading/school_dataschool_students_passing_math_and_reading/school_dataschool_students_passing_math_and_reading/school_dataschool_students_passing_math_and_reading/school_dataschool_students_passing_math_and_reading/school_dataschool_students_passing_math_and_reading/school_dataschool_students_passing_math_and_reading/school_dataschool_students_passing_math_and_reading/school_dataschool_students_passing_math_and_reading/school_dataschool_students_passing_math_and_reading/school_dataschool_students_passing_math_and_reading/school_dataschool_students_passing_math_and_reading/school_dataschool_students_passing_math_and_reading/school_dataschool_students_passing_math_and_reading/school_dataschool_students_passing_math_and_reading/school_dataschool_students_passing_math_and_reading/school_dataschool_students_passing_math_and_reading/school_dataschool_students_passing_math_and_reading/school_dataschool_students_passing_math_and_reading/school_dataschool_students_passing_math_and_reading/school_dataschool_students_passing_math_and_reading/school_dataschool_students_passing_math_and_reading/school_dataschool_students_passing_math_and_reading/school_dataschool_students_passing_math_and_reading/school_dataschool_students_passing_math_and_reading/school_dataschool_students_passing_math_and_reading/school_dataschool_students_passing_math_and_reading/school_dataschool_students_passing_math_and_reading/school_dataschool_students_passing_math_and_reading/school_dataschool_students_passing_math_and_reading/school_dataschool_students_passing_math_and_reading/school_dataschool_students_passing_math_and_reading/school_dataschool_students_passing_math_and_reading/school_dataschool_students_passing_math_and_reading/school_dataschool_students_passing_math_and_reading/school_dataschool_students_passing_math_and_reading/school_dataschool_students_passing_math_and_reading/school_dataschool_students_passing_math_and_reading/school_dataschool_students_passing_math_and_reading/school_dataschool_students_passing_math_and_reading/school_dataschool_students_passing_math_and_reading/school_dataschool_students_passing_math_and_reading/school_dataschool_students_passing_math_and_reading/school_dataschool_students_passing_math_and_reading/school_dataschool_students_passing_math_and_reading/school_dataschool_students_passing_math_and_reading/school_dataschool_students_passing_math_and_reading/school_dataschool_students_passing_math_and_reading/school_dataschool_students_passing_math_and_reading/school_dataschool_students_passing_math_and_reading/school_dataschool_students_passing_math_and_reading/school_dataschool_students_passing_math_and_reading/school_dataschool_students_passing_math_and_reading/school_dataschool_students_passing_math_and_reading/school_dataschool_students_passing_math_and_reading/school_dataschool_students_passing_math_and_reading/school_dataschool_students_passing_math_and_reading/school_dataschool_students_passing_math_and_reading/school_dataschool_students_passing_math_and_reading/school_dataschool_students_passing_math_and_reading/school_dataschool_students_passing_math_and_reading/school_dataschool_students_passing_math_and_reading/school_dataschool_students_passing_math_and_reading/school_dataschool_students_passing_math_and_reading/school_dataschool_students_passing_math_and_reading/school_dataschool_students_passing_math_and_reading/school_dataschool_students_passing_math_and_reading/school_dataschool_students_passing_math_and_reading/school_dataschool_students_passing_math_and_reading/school_dataschool_students_passing_math_and_reading/school_dataschool_students_passing_math_and_reading/school_dataschool_students_passing_math_and_reading/school_dataschool_students_passing_math_and_reading/school_dataschool_students_passing_math_and_reading/school_dataschool_students_passing_math_and_reading/school_dataschool_students_passing_math_and_reading/school_dataschool_students_passing_math_and_reading/school_dataschool_students_passing_math_and_reading/school_dataschool_students_passing_math_and_reading/school_dataschool_students_passing_math_and_reading/school_dataschool_students_passing_math_and_reading/school_dataschool_students_passing_math_and_reading/school_dataschool_students_passing_math_and_reading/school_dataschool_students_passing_math_and_reading/school_dataschool_students_passing_math_and_reading/school_dataschool_students_passing_math_and_reading/school_dataschool_students_passing_math_and_reading/school_data to numeric",
     "output_type": "error",
     "traceback": [
      "\u001b[0;31m---------------------------------------------------------------------------\u001b[0m",
      "\u001b[0;31mNotImplementedError\u001b[0m                       Traceback (most recent call last)",
      "File \u001b[0;32m~/anaconda3/lib/python3.10/site-packages/pandas/core/groupby/groupby.py:1791\u001b[0m, in \u001b[0;36mGroupBy._cython_agg_general.<locals>.array_func\u001b[0;34m(values)\u001b[0m\n\u001b[1;32m   1790\u001b[0m \u001b[39mtry\u001b[39;00m:\n\u001b[0;32m-> 1791\u001b[0m     result \u001b[39m=\u001b[39m \u001b[39mself\u001b[39;49m\u001b[39m.\u001b[39;49mgrouper\u001b[39m.\u001b[39;49m_cython_operation(\n\u001b[1;32m   1792\u001b[0m         \u001b[39m\"\u001b[39;49m\u001b[39maggregate\u001b[39;49m\u001b[39m\"\u001b[39;49m,\n\u001b[1;32m   1793\u001b[0m         values,\n\u001b[1;32m   1794\u001b[0m         how,\n\u001b[1;32m   1795\u001b[0m         axis\u001b[39m=\u001b[39;49mdata\u001b[39m.\u001b[39;49mndim \u001b[39m-\u001b[39;49m \u001b[39m1\u001b[39;49m,\n\u001b[1;32m   1796\u001b[0m         min_count\u001b[39m=\u001b[39;49mmin_count,\n\u001b[1;32m   1797\u001b[0m         \u001b[39m*\u001b[39;49m\u001b[39m*\u001b[39;49mkwargs,\n\u001b[1;32m   1798\u001b[0m     )\n\u001b[1;32m   1799\u001b[0m \u001b[39mexcept\u001b[39;00m \u001b[39mNotImplementedError\u001b[39;00m:\n\u001b[1;32m   1800\u001b[0m     \u001b[39m# generally if we have numeric_only=False\u001b[39;00m\n\u001b[1;32m   1801\u001b[0m     \u001b[39m# and non-applicable functions\u001b[39;00m\n\u001b[1;32m   1802\u001b[0m     \u001b[39m# try to python agg\u001b[39;00m\n\u001b[1;32m   1803\u001b[0m     \u001b[39m# TODO: shouldn't min_count matter?\u001b[39;00m\n",
      "File \u001b[0;32m~/anaconda3/lib/python3.10/site-packages/pandas/core/groupby/ops.py:1039\u001b[0m, in \u001b[0;36mBaseGrouper._cython_operation\u001b[0;34m(self, kind, values, how, axis, min_count, **kwargs)\u001b[0m\n\u001b[1;32m   1038\u001b[0m ngroups \u001b[39m=\u001b[39m \u001b[39mself\u001b[39m\u001b[39m.\u001b[39mngroups\n\u001b[0;32m-> 1039\u001b[0m \u001b[39mreturn\u001b[39;00m cy_op\u001b[39m.\u001b[39;49mcython_operation(\n\u001b[1;32m   1040\u001b[0m     values\u001b[39m=\u001b[39;49mvalues,\n\u001b[1;32m   1041\u001b[0m     axis\u001b[39m=\u001b[39;49maxis,\n\u001b[1;32m   1042\u001b[0m     min_count\u001b[39m=\u001b[39;49mmin_count,\n\u001b[1;32m   1043\u001b[0m     comp_ids\u001b[39m=\u001b[39;49mids,\n\u001b[1;32m   1044\u001b[0m     ngroups\u001b[39m=\u001b[39;49mngroups,\n\u001b[1;32m   1045\u001b[0m     \u001b[39m*\u001b[39;49m\u001b[39m*\u001b[39;49mkwargs,\n\u001b[1;32m   1046\u001b[0m )\n",
      "File \u001b[0;32m~/anaconda3/lib/python3.10/site-packages/pandas/core/groupby/ops.py:708\u001b[0m, in \u001b[0;36mWrappedCythonOp.cython_operation\u001b[0;34m(self, values, axis, min_count, comp_ids, ngroups, **kwargs)\u001b[0m\n\u001b[1;32m    700\u001b[0m     \u001b[39mreturn\u001b[39;00m \u001b[39mself\u001b[39m\u001b[39m.\u001b[39m_ea_wrap_cython_operation(\n\u001b[1;32m    701\u001b[0m         values,\n\u001b[1;32m    702\u001b[0m         min_count\u001b[39m=\u001b[39mmin_count,\n\u001b[0;32m   (...)\u001b[0m\n\u001b[1;32m    705\u001b[0m         \u001b[39m*\u001b[39m\u001b[39m*\u001b[39mkwargs,\n\u001b[1;32m    706\u001b[0m     )\n\u001b[0;32m--> 708\u001b[0m \u001b[39mreturn\u001b[39;00m \u001b[39mself\u001b[39;49m\u001b[39m.\u001b[39;49m_cython_op_ndim_compat(\n\u001b[1;32m    709\u001b[0m     values,\n\u001b[1;32m    710\u001b[0m     min_count\u001b[39m=\u001b[39;49mmin_count,\n\u001b[1;32m    711\u001b[0m     ngroups\u001b[39m=\u001b[39;49mngroups,\n\u001b[1;32m    712\u001b[0m     comp_ids\u001b[39m=\u001b[39;49mcomp_ids,\n\u001b[1;32m    713\u001b[0m     mask\u001b[39m=\u001b[39;49m\u001b[39mNone\u001b[39;49;00m,\n\u001b[1;32m    714\u001b[0m     \u001b[39m*\u001b[39;49m\u001b[39m*\u001b[39;49mkwargs,\n\u001b[1;32m    715\u001b[0m )\n",
      "File \u001b[0;32m~/anaconda3/lib/python3.10/site-packages/pandas/core/groupby/ops.py:512\u001b[0m, in \u001b[0;36mWrappedCythonOp._cython_op_ndim_compat\u001b[0;34m(self, values, min_count, ngroups, comp_ids, mask, result_mask, **kwargs)\u001b[0m\n\u001b[1;32m    511\u001b[0m     result_mask \u001b[39m=\u001b[39m result_mask[\u001b[39mNone\u001b[39;00m, :]\n\u001b[0;32m--> 512\u001b[0m res \u001b[39m=\u001b[39m \u001b[39mself\u001b[39;49m\u001b[39m.\u001b[39;49m_call_cython_op(\n\u001b[1;32m    513\u001b[0m     values2d,\n\u001b[1;32m    514\u001b[0m     min_count\u001b[39m=\u001b[39;49mmin_count,\n\u001b[1;32m    515\u001b[0m     ngroups\u001b[39m=\u001b[39;49mngroups,\n\u001b[1;32m    516\u001b[0m     comp_ids\u001b[39m=\u001b[39;49mcomp_ids,\n\u001b[1;32m    517\u001b[0m     mask\u001b[39m=\u001b[39;49mmask,\n\u001b[1;32m    518\u001b[0m     result_mask\u001b[39m=\u001b[39;49mresult_mask,\n\u001b[1;32m    519\u001b[0m     \u001b[39m*\u001b[39;49m\u001b[39m*\u001b[39;49mkwargs,\n\u001b[1;32m    520\u001b[0m )\n\u001b[1;32m    521\u001b[0m \u001b[39mif\u001b[39;00m res\u001b[39m.\u001b[39mshape[\u001b[39m0\u001b[39m] \u001b[39m==\u001b[39m \u001b[39m1\u001b[39m:\n",
      "File \u001b[0;32m~/anaconda3/lib/python3.10/site-packages/pandas/core/groupby/ops.py:571\u001b[0m, in \u001b[0;36mWrappedCythonOp._call_cython_op\u001b[0;34m(self, values, min_count, ngroups, comp_ids, mask, result_mask, **kwargs)\u001b[0m\n\u001b[1;32m    570\u001b[0m out_shape \u001b[39m=\u001b[39m \u001b[39mself\u001b[39m\u001b[39m.\u001b[39m_get_output_shape(ngroups, values)\n\u001b[0;32m--> 571\u001b[0m func \u001b[39m=\u001b[39m \u001b[39mself\u001b[39;49m\u001b[39m.\u001b[39;49m_get_cython_function(\u001b[39mself\u001b[39;49m\u001b[39m.\u001b[39;49mkind, \u001b[39mself\u001b[39;49m\u001b[39m.\u001b[39;49mhow, values\u001b[39m.\u001b[39;49mdtype, is_numeric)\n\u001b[1;32m    572\u001b[0m values \u001b[39m=\u001b[39m \u001b[39mself\u001b[39m\u001b[39m.\u001b[39m_get_cython_vals(values)\n",
      "File \u001b[0;32m~/anaconda3/lib/python3.10/site-packages/pandas/core/groupby/ops.py:192\u001b[0m, in \u001b[0;36mWrappedCythonOp._get_cython_function\u001b[0;34m(cls, kind, how, dtype, is_numeric)\u001b[0m\n\u001b[1;32m    190\u001b[0m \u001b[39melif\u001b[39;00m \u001b[39m\"\u001b[39m\u001b[39mobject\u001b[39m\u001b[39m\"\u001b[39m \u001b[39mnot\u001b[39;00m \u001b[39min\u001b[39;00m f\u001b[39m.\u001b[39m__signatures__:\n\u001b[1;32m    191\u001b[0m     \u001b[39m# raise NotImplementedError here rather than TypeError later\u001b[39;00m\n\u001b[0;32m--> 192\u001b[0m     \u001b[39mraise\u001b[39;00m \u001b[39mNotImplementedError\u001b[39;00m(\n\u001b[1;32m    193\u001b[0m         \u001b[39mf\u001b[39m\u001b[39m\"\u001b[39m\u001b[39mfunction is not implemented for this dtype: \u001b[39m\u001b[39m\"\u001b[39m\n\u001b[1;32m    194\u001b[0m         \u001b[39mf\u001b[39m\u001b[39m\"\u001b[39m\u001b[39m[how->\u001b[39m\u001b[39m{\u001b[39;00mhow\u001b[39m}\u001b[39;00m\u001b[39m,dtype->\u001b[39m\u001b[39m{\u001b[39;00mdtype_str\u001b[39m}\u001b[39;00m\u001b[39m]\u001b[39m\u001b[39m\"\u001b[39m\n\u001b[1;32m    195\u001b[0m     )\n\u001b[1;32m    196\u001b[0m \u001b[39mreturn\u001b[39;00m f\n",
      "\u001b[0;31mNotImplementedError\u001b[0m: function is not implemented for this dtype: [how->mean,dtype->object]",
      "\nDuring handling of the above exception, another exception occurred:\n",
      "\u001b[0;31mValueError\u001b[0m                                Traceback (most recent call last)",
      "File \u001b[0;32m~/anaconda3/lib/python3.10/site-packages/pandas/core/nanops.py:1630\u001b[0m, in \u001b[0;36m_ensure_numeric\u001b[0;34m(x)\u001b[0m\n\u001b[1;32m   1629\u001b[0m \u001b[39mtry\u001b[39;00m:\n\u001b[0;32m-> 1630\u001b[0m     x \u001b[39m=\u001b[39m \u001b[39mfloat\u001b[39;49m(x)\n\u001b[1;32m   1631\u001b[0m \u001b[39mexcept\u001b[39;00m (\u001b[39mTypeError\u001b[39;00m, \u001b[39mValueError\u001b[39;00m):\n\u001b[1;32m   1632\u001b[0m     \u001b[39m# e.g. \"1+1j\" or \"foo\"\u001b[39;00m\n",
      "\u001b[0;31mValueError\u001b[0m: could not convert string to float: 'school_students_passing_math_and_reading/school_dataschool_students_passing_math_and_reading/school_dataschool_students_passing_math_and_reading/school_dataschool_students_passing_math_and_reading/school_dataschool_students_passing_math_and_reading/school_dataschool_students_passing_math_and_reading/school_dataschool_students_passing_math_and_reading/school_dataschool_students_passing_math_and_reading/school_dataschool_students_passing_math_and_reading/school_dataschool_students_passing_math_and_reading/school_dataschool_students_passing_math_and_reading/school_dataschool_students_passing_math_and_reading/school_dataschool_students_passing_math_and_reading/school_dataschool_students_passing_math_and_reading/school_dataschool_students_passing_math_and_reading/school_dataschool_students_passing_math_and_reading/school_dataschool_students_passing_math_and_reading/school_dataschool_students_passing_math_and_reading/school_dataschool_students_passing_math_and_reading/school_dataschool_students_passing_math_and_reading/school_dataschool_students_passing_math_and_reading/school_dataschool_students_passing_math_and_reading/school_dataschool_students_passing_math_and_reading/school_dataschool_students_passing_math_and_reading/school_dataschool_students_passing_math_and_reading/school_dataschool_students_passing_math_and_reading/school_dataschool_students_passing_math_and_reading/school_dataschool_students_passing_math_and_reading/school_dataschool_students_passing_math_and_reading/school_dataschool_students_passing_math_and_reading/school_dataschool_students_passing_math_and_reading/school_dataschool_students_passing_math_and_reading/school_dataschool_students_passing_math_and_reading/school_dataschool_students_passing_math_and_reading/school_dataschool_students_passing_math_and_reading/school_dataschool_students_passing_math_and_reading/school_dataschool_students_passing_math_and_reading/school_dataschool_students_passing_math_and_reading/school_dataschool_students_passing_math_and_reading/school_dataschool_students_passing_math_and_reading/school_dataschool_students_passing_math_and_reading/school_dataschool_students_passing_math_and_reading/school_dataschool_students_passing_math_and_reading/school_dataschool_students_passing_math_and_reading/school_dataschool_students_passing_math_and_reading/school_dataschool_students_passing_math_and_reading/school_dataschool_students_passing_math_and_reading/school_dataschool_students_passing_math_and_reading/school_dataschool_students_passing_math_and_reading/school_dataschool_students_passing_math_and_reading/school_dataschool_students_passing_math_and_reading/school_dataschool_students_passing_math_and_reading/school_dataschool_students_passing_math_and_reading/school_dataschool_students_passing_math_and_reading/school_dataschool_students_passing_math_and_reading/school_dataschool_students_passing_math_and_reading/school_dataschool_students_passing_math_and_reading/school_dataschool_students_passing_math_and_reading/school_dataschool_students_passing_math_and_reading/school_dataschool_students_passing_math_and_reading/school_dataschool_students_passing_math_and_reading/school_dataschool_students_passing_math_and_reading/school_dataschool_students_passing_math_and_reading/school_dataschool_students_passing_math_and_reading/school_dataschool_students_passing_math_and_reading/school_dataschool_students_passing_math_and_reading/school_dataschool_students_passing_math_and_reading/school_dataschool_students_passing_math_and_reading/school_dataschool_students_passing_math_and_reading/school_dataschool_students_passing_math_and_reading/school_dataschool_students_passing_math_and_reading/school_dataschool_students_passing_math_and_reading/school_dataschool_students_passing_math_and_reading/school_dataschool_students_passing_math_and_reading/school_dataschool_students_passing_math_and_reading/school_dataschool_students_passing_math_and_reading/school_dataschool_students_passing_math_and_reading/school_dataschool_students_passing_math_and_reading/school_dataschool_students_passing_math_and_reading/school_dataschool_students_passing_math_and_reading/school_dataschool_students_passing_math_and_reading/school_dataschool_students_passing_math_and_reading/school_dataschool_students_passing_math_and_reading/school_dataschool_students_passing_math_and_reading/school_dataschool_students_passing_math_and_reading/school_dataschool_students_passing_math_and_reading/school_dataschool_students_passing_math_and_reading/school_dataschool_students_passing_math_and_reading/school_dataschool_students_passing_math_and_reading/school_dataschool_students_passing_math_and_reading/school_dataschool_students_passing_math_and_reading/school_dataschool_students_passing_math_and_reading/school_dataschool_students_passing_math_and_reading/school_dataschool_students_passing_math_and_reading/school_dataschool_students_passing_math_and_reading/school_dataschool_students_passing_math_and_reading/school_dataschool_students_passing_math_and_reading/school_dataschool_students_passing_math_and_reading/school_dataschool_students_passing_math_and_reading/school_dataschool_students_passing_math_and_reading/school_data'",
      "\nDuring handling of the above exception, another exception occurred:\n",
      "\u001b[0;31mValueError\u001b[0m                                Traceback (most recent call last)",
      "File \u001b[0;32m~/anaconda3/lib/python3.10/site-packages/pandas/core/nanops.py:1634\u001b[0m, in \u001b[0;36m_ensure_numeric\u001b[0;34m(x)\u001b[0m\n\u001b[1;32m   1633\u001b[0m \u001b[39mtry\u001b[39;00m:\n\u001b[0;32m-> 1634\u001b[0m     x \u001b[39m=\u001b[39m \u001b[39mcomplex\u001b[39;49m(x)\n\u001b[1;32m   1635\u001b[0m \u001b[39mexcept\u001b[39;00m \u001b[39mValueError\u001b[39;00m \u001b[39mas\u001b[39;00m err:\n\u001b[1;32m   1636\u001b[0m     \u001b[39m# e.g. \"foo\"\u001b[39;00m\n",
      "\u001b[0;31mValueError\u001b[0m: could not convert string to complex: 'school_students_passing_math_and_reading/school_dataschool_students_passing_math_and_reading/school_dataschool_students_passing_math_and_reading/school_dataschool_students_passing_math_and_reading/school_dataschool_students_passing_math_and_reading/school_dataschool_students_passing_math_and_reading/school_dataschool_students_passing_math_and_reading/school_dataschool_students_passing_math_and_reading/school_dataschool_students_passing_math_and_reading/school_dataschool_students_passing_math_and_reading/school_dataschool_students_passing_math_and_reading/school_dataschool_students_passing_math_and_reading/school_dataschool_students_passing_math_and_reading/school_dataschool_students_passing_math_and_reading/school_dataschool_students_passing_math_and_reading/school_dataschool_students_passing_math_and_reading/school_dataschool_students_passing_math_and_reading/school_dataschool_students_passing_math_and_reading/school_dataschool_students_passing_math_and_reading/school_dataschool_students_passing_math_and_reading/school_dataschool_students_passing_math_and_reading/school_dataschool_students_passing_math_and_reading/school_dataschool_students_passing_math_and_reading/school_dataschool_students_passing_math_and_reading/school_dataschool_students_passing_math_and_reading/school_dataschool_students_passing_math_and_reading/school_dataschool_students_passing_math_and_reading/school_dataschool_students_passing_math_and_reading/school_dataschool_students_passing_math_and_reading/school_dataschool_students_passing_math_and_reading/school_dataschool_students_passing_math_and_reading/school_dataschool_students_passing_math_and_reading/school_dataschool_students_passing_math_and_reading/school_dataschool_students_passing_math_and_reading/school_dataschool_students_passing_math_and_reading/school_dataschool_students_passing_math_and_reading/school_dataschool_students_passing_math_and_reading/school_dataschool_students_passing_math_and_reading/school_dataschool_students_passing_math_and_reading/school_dataschool_students_passing_math_and_reading/school_dataschool_students_passing_math_and_reading/school_dataschool_students_passing_math_and_reading/school_dataschool_students_passing_math_and_reading/school_dataschool_students_passing_math_and_reading/school_dataschool_students_passing_math_and_reading/school_dataschool_students_passing_math_and_reading/school_dataschool_students_passing_math_and_reading/school_dataschool_students_passing_math_and_reading/school_dataschool_students_passing_math_and_reading/school_dataschool_students_passing_math_and_reading/school_dataschool_students_passing_math_and_reading/school_dataschool_students_passing_math_and_reading/school_dataschool_students_passing_math_and_reading/school_dataschool_students_passing_math_and_reading/school_dataschool_students_passing_math_and_reading/school_dataschool_students_passing_math_and_reading/school_dataschool_students_passing_math_and_reading/school_dataschool_students_passing_math_and_reading/school_dataschool_students_passing_math_and_reading/school_dataschool_students_passing_math_and_reading/school_dataschool_students_passing_math_and_reading/school_dataschool_students_passing_math_and_reading/school_dataschool_students_passing_math_and_reading/school_dataschool_students_passing_math_and_reading/school_dataschool_students_passing_math_and_reading/school_dataschool_students_passing_math_and_reading/school_dataschool_students_passing_math_and_reading/school_dataschool_students_passing_math_and_reading/school_dataschool_students_passing_math_and_reading/school_dataschool_students_passing_math_and_reading/school_dataschool_students_passing_math_and_reading/school_dataschool_students_passing_math_and_reading/school_dataschool_students_passing_math_and_reading/school_dataschool_students_passing_math_and_reading/school_dataschool_students_passing_math_and_reading/school_dataschool_students_passing_math_and_reading/school_dataschool_students_passing_math_and_reading/school_dataschool_students_passing_math_and_reading/school_dataschool_students_passing_math_and_reading/school_dataschool_students_passing_math_and_reading/school_dataschool_students_passing_math_and_reading/school_dataschool_students_passing_math_and_reading/school_dataschool_students_passing_math_and_reading/school_dataschool_students_passing_math_and_reading/school_dataschool_students_passing_math_and_reading/school_dataschool_students_passing_math_and_reading/school_dataschool_students_passing_math_and_reading/school_dataschool_students_passing_math_and_reading/school_dataschool_students_passing_math_and_reading/school_dataschool_students_passing_math_and_reading/school_dataschool_students_passing_math_and_reading/school_dataschool_students_passing_math_and_reading/school_dataschool_students_passing_math_and_reading/school_dataschool_students_passing_math_and_reading/school_dataschool_students_passing_math_and_reading/school_dataschool_students_passing_math_and_reading/school_dataschool_students_passing_math_and_reading/school_dataschool_students_passing_math_and_reading/school_dataschool_students_passing_math_and_reading/school_dataschool_students_passing_math_and_reading/school_data'",
      "\nThe above exception was the direct cause of the following exception:\n",
      "\u001b[0;31mTypeError\u001b[0m                                 Traceback (most recent call last)",
      "Cell \u001b[0;32mIn[58], line 6\u001b[0m\n\u001b[1;32m      4\u001b[0m average_percent_passing_math_by_type \u001b[39m=\u001b[39m per_school_summary\u001b[39m.\u001b[39mgroupby([\u001b[39m\"\u001b[39m\u001b[39mSchool Type\u001b[39m\u001b[39m\"\u001b[39m])[\u001b[39m\"\u001b[39m\u001b[39m%\u001b[39m\u001b[39m Students Passing Math\u001b[39m\u001b[39m\"\u001b[39m]\u001b[39m.\u001b[39mmean()\n\u001b[1;32m      5\u001b[0m average_percent_passing_reading_by_type \u001b[39m=\u001b[39m per_school_summary\u001b[39m.\u001b[39mgroupby([\u001b[39m\"\u001b[39m\u001b[39mSchool Type\u001b[39m\u001b[39m\"\u001b[39m])[\u001b[39m\"\u001b[39m\u001b[39m%\u001b[39m\u001b[39m Students Passing Reading\u001b[39m\u001b[39m\"\u001b[39m]\u001b[39m.\u001b[39mmean()\n\u001b[0;32m----> 6\u001b[0m average_percent_overall_passing_by_type \u001b[39m=\u001b[39m per_school_summary\u001b[39m.\u001b[39;49mgroupby([\u001b[39m\"\u001b[39;49m\u001b[39mSchool Type\u001b[39;49m\u001b[39m\"\u001b[39;49m])[\u001b[39m\"\u001b[39;49m\u001b[39m%\u001b[39;49m\u001b[39m Students Passing Both Math & Reading\u001b[39;49m\u001b[39m\"\u001b[39;49m]\u001b[39m.\u001b[39;49mmean()\n",
      "File \u001b[0;32m~/anaconda3/lib/python3.10/site-packages/pandas/core/groupby/groupby.py:2183\u001b[0m, in \u001b[0;36mGroupBy.mean\u001b[0;34m(self, numeric_only, engine, engine_kwargs)\u001b[0m\n\u001b[1;32m   2181\u001b[0m     \u001b[39mreturn\u001b[39;00m \u001b[39mself\u001b[39m\u001b[39m.\u001b[39m_numba_agg_general(sliding_mean, engine_kwargs)\n\u001b[1;32m   2182\u001b[0m \u001b[39melse\u001b[39;00m:\n\u001b[0;32m-> 2183\u001b[0m     result \u001b[39m=\u001b[39m \u001b[39mself\u001b[39;49m\u001b[39m.\u001b[39;49m_cython_agg_general(\n\u001b[1;32m   2184\u001b[0m         \u001b[39m\"\u001b[39;49m\u001b[39mmean\u001b[39;49m\u001b[39m\"\u001b[39;49m,\n\u001b[1;32m   2185\u001b[0m         alt\u001b[39m=\u001b[39;49m\u001b[39mlambda\u001b[39;49;00m x: Series(x)\u001b[39m.\u001b[39;49mmean(numeric_only\u001b[39m=\u001b[39;49mnumeric_only_bool),\n\u001b[1;32m   2186\u001b[0m         numeric_only\u001b[39m=\u001b[39;49mnumeric_only,\n\u001b[1;32m   2187\u001b[0m     )\n\u001b[1;32m   2188\u001b[0m     \u001b[39mreturn\u001b[39;00m result\u001b[39m.\u001b[39m__finalize__(\u001b[39mself\u001b[39m\u001b[39m.\u001b[39mobj, method\u001b[39m=\u001b[39m\u001b[39m\"\u001b[39m\u001b[39mgroupby\u001b[39m\u001b[39m\"\u001b[39m)\n",
      "File \u001b[0;32m~/anaconda3/lib/python3.10/site-packages/pandas/core/groupby/groupby.py:1810\u001b[0m, in \u001b[0;36mGroupBy._cython_agg_general\u001b[0;34m(self, how, alt, numeric_only, min_count, ignore_failures, **kwargs)\u001b[0m\n\u001b[1;32m   1806\u001b[0m     \u001b[39mreturn\u001b[39;00m result\n\u001b[1;32m   1808\u001b[0m \u001b[39m# TypeError -> we may have an exception in trying to aggregate\u001b[39;00m\n\u001b[1;32m   1809\u001b[0m \u001b[39m#  continue and exclude the block\u001b[39;00m\n\u001b[0;32m-> 1810\u001b[0m new_mgr \u001b[39m=\u001b[39m data\u001b[39m.\u001b[39;49mgrouped_reduce(array_func, ignore_failures\u001b[39m=\u001b[39;49mignore_failures)\n\u001b[1;32m   1812\u001b[0m \u001b[39mif\u001b[39;00m \u001b[39mnot\u001b[39;00m is_ser \u001b[39mand\u001b[39;00m \u001b[39mlen\u001b[39m(new_mgr) \u001b[39m<\u001b[39m orig_len:\n\u001b[1;32m   1813\u001b[0m     warn_dropping_nuisance_columns_deprecated(\u001b[39mtype\u001b[39m(\u001b[39mself\u001b[39m), how, numeric_only)\n",
      "File \u001b[0;32m~/anaconda3/lib/python3.10/site-packages/pandas/core/internals/base.py:199\u001b[0m, in \u001b[0;36mSingleDataManager.grouped_reduce\u001b[0;34m(self, func, ignore_failures)\u001b[0m\n\u001b[1;32m    193\u001b[0m \u001b[39m\"\"\"\u001b[39;00m\n\u001b[1;32m    194\u001b[0m \u001b[39mignore_failures : bool, default False\u001b[39;00m\n\u001b[1;32m    195\u001b[0m \u001b[39m    Not used; for compatibility with ArrayManager/BlockManager.\u001b[39;00m\n\u001b[1;32m    196\u001b[0m \u001b[39m\"\"\"\u001b[39;00m\n\u001b[1;32m    198\u001b[0m arr \u001b[39m=\u001b[39m \u001b[39mself\u001b[39m\u001b[39m.\u001b[39marray\n\u001b[0;32m--> 199\u001b[0m res \u001b[39m=\u001b[39m func(arr)\n\u001b[1;32m    200\u001b[0m index \u001b[39m=\u001b[39m default_index(\u001b[39mlen\u001b[39m(res))\n\u001b[1;32m    202\u001b[0m mgr \u001b[39m=\u001b[39m \u001b[39mtype\u001b[39m(\u001b[39mself\u001b[39m)\u001b[39m.\u001b[39mfrom_array(res, index)\n",
      "File \u001b[0;32m~/anaconda3/lib/python3.10/site-packages/pandas/core/groupby/groupby.py:1804\u001b[0m, in \u001b[0;36mGroupBy._cython_agg_general.<locals>.array_func\u001b[0;34m(values)\u001b[0m\n\u001b[1;32m   1791\u001b[0m     result \u001b[39m=\u001b[39m \u001b[39mself\u001b[39m\u001b[39m.\u001b[39mgrouper\u001b[39m.\u001b[39m_cython_operation(\n\u001b[1;32m   1792\u001b[0m         \u001b[39m\"\u001b[39m\u001b[39maggregate\u001b[39m\u001b[39m\"\u001b[39m,\n\u001b[1;32m   1793\u001b[0m         values,\n\u001b[0;32m   (...)\u001b[0m\n\u001b[1;32m   1797\u001b[0m         \u001b[39m*\u001b[39m\u001b[39m*\u001b[39mkwargs,\n\u001b[1;32m   1798\u001b[0m     )\n\u001b[1;32m   1799\u001b[0m \u001b[39mexcept\u001b[39;00m \u001b[39mNotImplementedError\u001b[39;00m:\n\u001b[1;32m   1800\u001b[0m     \u001b[39m# generally if we have numeric_only=False\u001b[39;00m\n\u001b[1;32m   1801\u001b[0m     \u001b[39m# and non-applicable functions\u001b[39;00m\n\u001b[1;32m   1802\u001b[0m     \u001b[39m# try to python agg\u001b[39;00m\n\u001b[1;32m   1803\u001b[0m     \u001b[39m# TODO: shouldn't min_count matter?\u001b[39;00m\n\u001b[0;32m-> 1804\u001b[0m     result \u001b[39m=\u001b[39m \u001b[39mself\u001b[39;49m\u001b[39m.\u001b[39;49m_agg_py_fallback(values, ndim\u001b[39m=\u001b[39;49mdata\u001b[39m.\u001b[39;49mndim, alt\u001b[39m=\u001b[39;49malt)\n\u001b[1;32m   1806\u001b[0m \u001b[39mreturn\u001b[39;00m result\n",
      "File \u001b[0;32m~/anaconda3/lib/python3.10/site-packages/pandas/core/groupby/groupby.py:1745\u001b[0m, in \u001b[0;36mGroupBy._agg_py_fallback\u001b[0;34m(self, values, ndim, alt)\u001b[0m\n\u001b[1;32m   1740\u001b[0m     ser \u001b[39m=\u001b[39m df\u001b[39m.\u001b[39miloc[:, \u001b[39m0\u001b[39m]\n\u001b[1;32m   1742\u001b[0m \u001b[39m# We do not get here with UDFs, so we know that our dtype\u001b[39;00m\n\u001b[1;32m   1743\u001b[0m \u001b[39m#  should always be preserved by the implemented aggregations\u001b[39;00m\n\u001b[1;32m   1744\u001b[0m \u001b[39m# TODO: Is this exactly right; see WrappedCythonOp get_result_dtype?\u001b[39;00m\n\u001b[0;32m-> 1745\u001b[0m res_values \u001b[39m=\u001b[39m \u001b[39mself\u001b[39;49m\u001b[39m.\u001b[39;49mgrouper\u001b[39m.\u001b[39;49magg_series(ser, alt, preserve_dtype\u001b[39m=\u001b[39;49m\u001b[39mTrue\u001b[39;49;00m)\n\u001b[1;32m   1747\u001b[0m \u001b[39mif\u001b[39;00m \u001b[39misinstance\u001b[39m(values, Categorical):\n\u001b[1;32m   1748\u001b[0m     \u001b[39m# Because we only get here with known dtype-preserving\u001b[39;00m\n\u001b[1;32m   1749\u001b[0m     \u001b[39m#  reductions, we cast back to Categorical.\u001b[39;00m\n\u001b[1;32m   1750\u001b[0m     \u001b[39m# TODO: if we ever get \"rank\" working, exclude it here.\u001b[39;00m\n\u001b[1;32m   1751\u001b[0m     res_values \u001b[39m=\u001b[39m \u001b[39mtype\u001b[39m(values)\u001b[39m.\u001b[39m_from_sequence(res_values, dtype\u001b[39m=\u001b[39mvalues\u001b[39m.\u001b[39mdtype)\n",
      "File \u001b[0;32m~/anaconda3/lib/python3.10/site-packages/pandas/core/groupby/ops.py:1081\u001b[0m, in \u001b[0;36mBaseGrouper.agg_series\u001b[0;34m(self, obj, func, preserve_dtype)\u001b[0m\n\u001b[1;32m   1078\u001b[0m     preserve_dtype \u001b[39m=\u001b[39m \u001b[39mTrue\u001b[39;00m\n\u001b[1;32m   1080\u001b[0m \u001b[39melse\u001b[39;00m:\n\u001b[0;32m-> 1081\u001b[0m     result \u001b[39m=\u001b[39m \u001b[39mself\u001b[39;49m\u001b[39m.\u001b[39;49m_aggregate_series_pure_python(obj, func)\n\u001b[1;32m   1083\u001b[0m npvalues \u001b[39m=\u001b[39m lib\u001b[39m.\u001b[39mmaybe_convert_objects(result, try_float\u001b[39m=\u001b[39m\u001b[39mFalse\u001b[39;00m)\n\u001b[1;32m   1084\u001b[0m \u001b[39mif\u001b[39;00m preserve_dtype:\n",
      "File \u001b[0;32m~/anaconda3/lib/python3.10/site-packages/pandas/core/groupby/ops.py:1104\u001b[0m, in \u001b[0;36mBaseGrouper._aggregate_series_pure_python\u001b[0;34m(self, obj, func)\u001b[0m\n\u001b[1;32m   1101\u001b[0m splitter \u001b[39m=\u001b[39m get_splitter(obj, ids, ngroups, axis\u001b[39m=\u001b[39m\u001b[39m0\u001b[39m)\n\u001b[1;32m   1103\u001b[0m \u001b[39mfor\u001b[39;00m i, group \u001b[39min\u001b[39;00m \u001b[39menumerate\u001b[39m(splitter):\n\u001b[0;32m-> 1104\u001b[0m     res \u001b[39m=\u001b[39m func(group)\n\u001b[1;32m   1105\u001b[0m     res \u001b[39m=\u001b[39m libreduction\u001b[39m.\u001b[39mextract_result(res)\n\u001b[1;32m   1107\u001b[0m     \u001b[39mif\u001b[39;00m \u001b[39mnot\u001b[39;00m initialized:\n\u001b[1;32m   1108\u001b[0m         \u001b[39m# We only do this validation on the first iteration\u001b[39;00m\n",
      "File \u001b[0;32m~/anaconda3/lib/python3.10/site-packages/pandas/core/groupby/groupby.py:2185\u001b[0m, in \u001b[0;36mGroupBy.mean.<locals>.<lambda>\u001b[0;34m(x)\u001b[0m\n\u001b[1;32m   2181\u001b[0m     \u001b[39mreturn\u001b[39;00m \u001b[39mself\u001b[39m\u001b[39m.\u001b[39m_numba_agg_general(sliding_mean, engine_kwargs)\n\u001b[1;32m   2182\u001b[0m \u001b[39melse\u001b[39;00m:\n\u001b[1;32m   2183\u001b[0m     result \u001b[39m=\u001b[39m \u001b[39mself\u001b[39m\u001b[39m.\u001b[39m_cython_agg_general(\n\u001b[1;32m   2184\u001b[0m         \u001b[39m\"\u001b[39m\u001b[39mmean\u001b[39m\u001b[39m\"\u001b[39m,\n\u001b[0;32m-> 2185\u001b[0m         alt\u001b[39m=\u001b[39m\u001b[39mlambda\u001b[39;00m x: Series(x)\u001b[39m.\u001b[39;49mmean(numeric_only\u001b[39m=\u001b[39;49mnumeric_only_bool),\n\u001b[1;32m   2186\u001b[0m         numeric_only\u001b[39m=\u001b[39mnumeric_only,\n\u001b[1;32m   2187\u001b[0m     )\n\u001b[1;32m   2188\u001b[0m     \u001b[39mreturn\u001b[39;00m result\u001b[39m.\u001b[39m__finalize__(\u001b[39mself\u001b[39m\u001b[39m.\u001b[39mobj, method\u001b[39m=\u001b[39m\u001b[39m\"\u001b[39m\u001b[39mgroupby\u001b[39m\u001b[39m\"\u001b[39m)\n",
      "File \u001b[0;32m~/anaconda3/lib/python3.10/site-packages/pandas/core/generic.py:11847\u001b[0m, in \u001b[0;36mNDFrame._add_numeric_operations.<locals>.mean\u001b[0;34m(self, axis, skipna, level, numeric_only, **kwargs)\u001b[0m\n\u001b[1;32m  11829\u001b[0m \u001b[39m@doc\u001b[39m(\n\u001b[1;32m  11830\u001b[0m     _num_doc,\n\u001b[1;32m  11831\u001b[0m     desc\u001b[39m=\u001b[39m\u001b[39m\"\u001b[39m\u001b[39mReturn the mean of the values over the requested axis.\u001b[39m\u001b[39m\"\u001b[39m,\n\u001b[0;32m   (...)\u001b[0m\n\u001b[1;32m  11845\u001b[0m     \u001b[39m*\u001b[39m\u001b[39m*\u001b[39mkwargs,\n\u001b[1;32m  11846\u001b[0m ):\n\u001b[0;32m> 11847\u001b[0m     \u001b[39mreturn\u001b[39;00m NDFrame\u001b[39m.\u001b[39;49mmean(\u001b[39mself\u001b[39;49m, axis, skipna, level, numeric_only, \u001b[39m*\u001b[39;49m\u001b[39m*\u001b[39;49mkwargs)\n",
      "File \u001b[0;32m~/anaconda3/lib/python3.10/site-packages/pandas/core/generic.py:11401\u001b[0m, in \u001b[0;36mNDFrame.mean\u001b[0;34m(self, axis, skipna, level, numeric_only, **kwargs)\u001b[0m\n\u001b[1;32m  11393\u001b[0m \u001b[39mdef\u001b[39;00m \u001b[39mmean\u001b[39m(\n\u001b[1;32m  11394\u001b[0m     \u001b[39mself\u001b[39m,\n\u001b[1;32m  11395\u001b[0m     axis: Axis \u001b[39m|\u001b[39m \u001b[39mNone\u001b[39;00m \u001b[39m|\u001b[39m lib\u001b[39m.\u001b[39mNoDefault \u001b[39m=\u001b[39m lib\u001b[39m.\u001b[39mno_default,\n\u001b[0;32m   (...)\u001b[0m\n\u001b[1;32m  11399\u001b[0m     \u001b[39m*\u001b[39m\u001b[39m*\u001b[39mkwargs,\n\u001b[1;32m  11400\u001b[0m ) \u001b[39m-\u001b[39m\u001b[39m>\u001b[39m Series \u001b[39m|\u001b[39m \u001b[39mfloat\u001b[39m:\n\u001b[0;32m> 11401\u001b[0m     \u001b[39mreturn\u001b[39;00m \u001b[39mself\u001b[39;49m\u001b[39m.\u001b[39;49m_stat_function(\n\u001b[1;32m  11402\u001b[0m         \u001b[39m\"\u001b[39;49m\u001b[39mmean\u001b[39;49m\u001b[39m\"\u001b[39;49m, nanops\u001b[39m.\u001b[39;49mnanmean, axis, skipna, level, numeric_only, \u001b[39m*\u001b[39;49m\u001b[39m*\u001b[39;49mkwargs\n\u001b[1;32m  11403\u001b[0m     )\n",
      "File \u001b[0;32m~/anaconda3/lib/python3.10/site-packages/pandas/core/generic.py:11353\u001b[0m, in \u001b[0;36mNDFrame._stat_function\u001b[0;34m(self, name, func, axis, skipna, level, numeric_only, **kwargs)\u001b[0m\n\u001b[1;32m  11343\u001b[0m     warnings\u001b[39m.\u001b[39mwarn(\n\u001b[1;32m  11344\u001b[0m         \u001b[39m\"\u001b[39m\u001b[39mUsing the level keyword in DataFrame and Series aggregations is \u001b[39m\u001b[39m\"\u001b[39m\n\u001b[1;32m  11345\u001b[0m         \u001b[39m\"\u001b[39m\u001b[39mdeprecated and will be removed in a future version. Use groupby \u001b[39m\u001b[39m\"\u001b[39m\n\u001b[0;32m   (...)\u001b[0m\n\u001b[1;32m  11348\u001b[0m         stacklevel\u001b[39m=\u001b[39mfind_stack_level(),\n\u001b[1;32m  11349\u001b[0m     )\n\u001b[1;32m  11350\u001b[0m     \u001b[39mreturn\u001b[39;00m \u001b[39mself\u001b[39m\u001b[39m.\u001b[39m_agg_by_level(\n\u001b[1;32m  11351\u001b[0m         name, axis\u001b[39m=\u001b[39maxis, level\u001b[39m=\u001b[39mlevel, skipna\u001b[39m=\u001b[39mskipna, numeric_only\u001b[39m=\u001b[39mnumeric_only\n\u001b[1;32m  11352\u001b[0m     )\n\u001b[0;32m> 11353\u001b[0m \u001b[39mreturn\u001b[39;00m \u001b[39mself\u001b[39;49m\u001b[39m.\u001b[39;49m_reduce(\n\u001b[1;32m  11354\u001b[0m     func, name\u001b[39m=\u001b[39;49mname, axis\u001b[39m=\u001b[39;49maxis, skipna\u001b[39m=\u001b[39;49mskipna, numeric_only\u001b[39m=\u001b[39;49mnumeric_only\n\u001b[1;32m  11355\u001b[0m )\n",
      "File \u001b[0;32m~/anaconda3/lib/python3.10/site-packages/pandas/core/series.py:4816\u001b[0m, in \u001b[0;36mSeries._reduce\u001b[0;34m(self, op, name, axis, skipna, numeric_only, filter_type, **kwds)\u001b[0m\n\u001b[1;32m   4812\u001b[0m     \u001b[39mraise\u001b[39;00m \u001b[39mNotImplementedError\u001b[39;00m(\n\u001b[1;32m   4813\u001b[0m         \u001b[39mf\u001b[39m\u001b[39m\"\u001b[39m\u001b[39mSeries.\u001b[39m\u001b[39m{\u001b[39;00mname\u001b[39m}\u001b[39;00m\u001b[39m does not implement \u001b[39m\u001b[39m{\u001b[39;00mkwd_name\u001b[39m}\u001b[39;00m\u001b[39m.\u001b[39m\u001b[39m\"\u001b[39m\n\u001b[1;32m   4814\u001b[0m     )\n\u001b[1;32m   4815\u001b[0m \u001b[39mwith\u001b[39;00m np\u001b[39m.\u001b[39merrstate(\u001b[39mall\u001b[39m\u001b[39m=\u001b[39m\u001b[39m\"\u001b[39m\u001b[39mignore\u001b[39m\u001b[39m\"\u001b[39m):\n\u001b[0;32m-> 4816\u001b[0m     \u001b[39mreturn\u001b[39;00m op(delegate, skipna\u001b[39m=\u001b[39;49mskipna, \u001b[39m*\u001b[39;49m\u001b[39m*\u001b[39;49mkwds)\n",
      "File \u001b[0;32m~/anaconda3/lib/python3.10/site-packages/pandas/core/nanops.py:93\u001b[0m, in \u001b[0;36mdisallow.__call__.<locals>._f\u001b[0;34m(*args, **kwargs)\u001b[0m\n\u001b[1;32m     91\u001b[0m \u001b[39mtry\u001b[39;00m:\n\u001b[1;32m     92\u001b[0m     \u001b[39mwith\u001b[39;00m np\u001b[39m.\u001b[39merrstate(invalid\u001b[39m=\u001b[39m\u001b[39m\"\u001b[39m\u001b[39mignore\u001b[39m\u001b[39m\"\u001b[39m):\n\u001b[0;32m---> 93\u001b[0m         \u001b[39mreturn\u001b[39;00m f(\u001b[39m*\u001b[39;49margs, \u001b[39m*\u001b[39;49m\u001b[39m*\u001b[39;49mkwargs)\n\u001b[1;32m     94\u001b[0m \u001b[39mexcept\u001b[39;00m \u001b[39mValueError\u001b[39;00m \u001b[39mas\u001b[39;00m e:\n\u001b[1;32m     95\u001b[0m     \u001b[39m# we want to transform an object array\u001b[39;00m\n\u001b[1;32m     96\u001b[0m     \u001b[39m# ValueError message to the more typical TypeError\u001b[39;00m\n\u001b[1;32m     97\u001b[0m     \u001b[39m# e.g. this is normally a disallowed function on\u001b[39;00m\n\u001b[1;32m     98\u001b[0m     \u001b[39m# object arrays that contain strings\u001b[39;00m\n\u001b[1;32m     99\u001b[0m     \u001b[39mif\u001b[39;00m is_object_dtype(args[\u001b[39m0\u001b[39m]):\n",
      "File \u001b[0;32m~/anaconda3/lib/python3.10/site-packages/pandas/core/nanops.py:155\u001b[0m, in \u001b[0;36mbottleneck_switch.__call__.<locals>.f\u001b[0;34m(values, axis, skipna, **kwds)\u001b[0m\n\u001b[1;32m    153\u001b[0m         result \u001b[39m=\u001b[39m alt(values, axis\u001b[39m=\u001b[39maxis, skipna\u001b[39m=\u001b[39mskipna, \u001b[39m*\u001b[39m\u001b[39m*\u001b[39mkwds)\n\u001b[1;32m    154\u001b[0m \u001b[39melse\u001b[39;00m:\n\u001b[0;32m--> 155\u001b[0m     result \u001b[39m=\u001b[39m alt(values, axis\u001b[39m=\u001b[39;49maxis, skipna\u001b[39m=\u001b[39;49mskipna, \u001b[39m*\u001b[39;49m\u001b[39m*\u001b[39;49mkwds)\n\u001b[1;32m    157\u001b[0m \u001b[39mreturn\u001b[39;00m result\n",
      "File \u001b[0;32m~/anaconda3/lib/python3.10/site-packages/pandas/core/nanops.py:418\u001b[0m, in \u001b[0;36m_datetimelike_compat.<locals>.new_func\u001b[0;34m(values, axis, skipna, mask, **kwargs)\u001b[0m\n\u001b[1;32m    415\u001b[0m \u001b[39mif\u001b[39;00m datetimelike \u001b[39mand\u001b[39;00m mask \u001b[39mis\u001b[39;00m \u001b[39mNone\u001b[39;00m:\n\u001b[1;32m    416\u001b[0m     mask \u001b[39m=\u001b[39m isna(values)\n\u001b[0;32m--> 418\u001b[0m result \u001b[39m=\u001b[39m func(values, axis\u001b[39m=\u001b[39;49maxis, skipna\u001b[39m=\u001b[39;49mskipna, mask\u001b[39m=\u001b[39;49mmask, \u001b[39m*\u001b[39;49m\u001b[39m*\u001b[39;49mkwargs)\n\u001b[1;32m    420\u001b[0m \u001b[39mif\u001b[39;00m datetimelike:\n\u001b[1;32m    421\u001b[0m     result \u001b[39m=\u001b[39m _wrap_results(result, orig_values\u001b[39m.\u001b[39mdtype, fill_value\u001b[39m=\u001b[39miNaT)\n",
      "File \u001b[0;32m~/anaconda3/lib/python3.10/site-packages/pandas/core/nanops.py:706\u001b[0m, in \u001b[0;36mnanmean\u001b[0;34m(values, axis, skipna, mask)\u001b[0m\n\u001b[1;32m    703\u001b[0m     dtype_count \u001b[39m=\u001b[39m dtype\n\u001b[1;32m    705\u001b[0m count \u001b[39m=\u001b[39m _get_counts(values\u001b[39m.\u001b[39mshape, mask, axis, dtype\u001b[39m=\u001b[39mdtype_count)\n\u001b[0;32m--> 706\u001b[0m the_sum \u001b[39m=\u001b[39m _ensure_numeric(values\u001b[39m.\u001b[39;49msum(axis, dtype\u001b[39m=\u001b[39;49mdtype_sum))\n\u001b[1;32m    708\u001b[0m \u001b[39mif\u001b[39;00m axis \u001b[39mis\u001b[39;00m \u001b[39mnot\u001b[39;00m \u001b[39mNone\u001b[39;00m \u001b[39mand\u001b[39;00m \u001b[39mgetattr\u001b[39m(the_sum, \u001b[39m\"\u001b[39m\u001b[39mndim\u001b[39m\u001b[39m\"\u001b[39m, \u001b[39mFalse\u001b[39;00m):\n\u001b[1;32m    709\u001b[0m     count \u001b[39m=\u001b[39m cast(np\u001b[39m.\u001b[39mndarray, count)\n",
      "File \u001b[0;32m~/anaconda3/lib/python3.10/site-packages/pandas/core/nanops.py:1637\u001b[0m, in \u001b[0;36m_ensure_numeric\u001b[0;34m(x)\u001b[0m\n\u001b[1;32m   1634\u001b[0m             x \u001b[39m=\u001b[39m \u001b[39mcomplex\u001b[39m(x)\n\u001b[1;32m   1635\u001b[0m         \u001b[39mexcept\u001b[39;00m \u001b[39mValueError\u001b[39;00m \u001b[39mas\u001b[39;00m err:\n\u001b[1;32m   1636\u001b[0m             \u001b[39m# e.g. \"foo\"\u001b[39;00m\n\u001b[0;32m-> 1637\u001b[0m             \u001b[39mraise\u001b[39;00m \u001b[39mTypeError\u001b[39;00m(\u001b[39mf\u001b[39m\u001b[39m\"\u001b[39m\u001b[39mCould not convert \u001b[39m\u001b[39m{\u001b[39;00mx\u001b[39m}\u001b[39;00m\u001b[39m to numeric\u001b[39m\u001b[39m\"\u001b[39m) \u001b[39mfrom\u001b[39;00m \u001b[39merr\u001b[39;00m\n\u001b[1;32m   1638\u001b[0m \u001b[39mreturn\u001b[39;00m x\n",
      "\u001b[0;31mTypeError\u001b[0m: Could not convert school_students_passing_math_and_reading/school_dataschool_students_passing_math_and_reading/school_dataschool_students_passing_math_and_reading/school_dataschool_students_passing_math_and_reading/school_dataschool_students_passing_math_and_reading/school_dataschool_students_passing_math_and_reading/school_dataschool_students_passing_math_and_reading/school_dataschool_students_passing_math_and_reading/school_dataschool_students_passing_math_and_reading/school_dataschool_students_passing_math_and_reading/school_dataschool_students_passing_math_and_reading/school_dataschool_students_passing_math_and_reading/school_dataschool_students_passing_math_and_reading/school_dataschool_students_passing_math_and_reading/school_dataschool_students_passing_math_and_reading/school_dataschool_students_passing_math_and_reading/school_dataschool_students_passing_math_and_reading/school_dataschool_students_passing_math_and_reading/school_dataschool_students_passing_math_and_reading/school_dataschool_students_passing_math_and_reading/school_dataschool_students_passing_math_and_reading/school_dataschool_students_passing_math_and_reading/school_dataschool_students_passing_math_and_reading/school_dataschool_students_passing_math_and_reading/school_dataschool_students_passing_math_and_reading/school_dataschool_students_passing_math_and_reading/school_dataschool_students_passing_math_and_reading/school_dataschool_students_passing_math_and_reading/school_dataschool_students_passing_math_and_reading/school_dataschool_students_passing_math_and_reading/school_dataschool_students_passing_math_and_reading/school_dataschool_students_passing_math_and_reading/school_dataschool_students_passing_math_and_reading/school_dataschool_students_passing_math_and_reading/school_dataschool_students_passing_math_and_reading/school_dataschool_students_passing_math_and_reading/school_dataschool_students_passing_math_and_reading/school_dataschool_students_passing_math_and_reading/school_dataschool_students_passing_math_and_reading/school_dataschool_students_passing_math_and_reading/school_dataschool_students_passing_math_and_reading/school_dataschool_students_passing_math_and_reading/school_dataschool_students_passing_math_and_reading/school_dataschool_students_passing_math_and_reading/school_dataschool_students_passing_math_and_reading/school_dataschool_students_passing_math_and_reading/school_dataschool_students_passing_math_and_reading/school_dataschool_students_passing_math_and_reading/school_dataschool_students_passing_math_and_reading/school_dataschool_students_passing_math_and_reading/school_dataschool_students_passing_math_and_reading/school_dataschool_students_passing_math_and_reading/school_dataschool_students_passing_math_and_reading/school_dataschool_students_passing_math_and_reading/school_dataschool_students_passing_math_and_reading/school_dataschool_students_passing_math_and_reading/school_dataschool_students_passing_math_and_reading/school_dataschool_students_passing_math_and_reading/school_dataschool_students_passing_math_and_reading/school_dataschool_students_passing_math_and_reading/school_dataschool_students_passing_math_and_reading/school_dataschool_students_passing_math_and_reading/school_dataschool_students_passing_math_and_reading/school_dataschool_students_passing_math_and_reading/school_dataschool_students_passing_math_and_reading/school_dataschool_students_passing_math_and_reading/school_dataschool_students_passing_math_and_reading/school_dataschool_students_passing_math_and_reading/school_dataschool_students_passing_math_and_reading/school_dataschool_students_passing_math_and_reading/school_dataschool_students_passing_math_and_reading/school_dataschool_students_passing_math_and_reading/school_dataschool_students_passing_math_and_reading/school_dataschool_students_passing_math_and_reading/school_dataschool_students_passing_math_and_reading/school_dataschool_students_passing_math_and_reading/school_dataschool_students_passing_math_and_reading/school_dataschool_students_passing_math_and_reading/school_dataschool_students_passing_math_and_reading/school_dataschool_students_passing_math_and_reading/school_dataschool_students_passing_math_and_reading/school_dataschool_students_passing_math_and_reading/school_dataschool_students_passing_math_and_reading/school_dataschool_students_passing_math_and_reading/school_dataschool_students_passing_math_and_reading/school_dataschool_students_passing_math_and_reading/school_dataschool_students_passing_math_and_reading/school_dataschool_students_passing_math_and_reading/school_dataschool_students_passing_math_and_reading/school_dataschool_students_passing_math_and_reading/school_dataschool_students_passing_math_and_reading/school_dataschool_students_passing_math_and_reading/school_dataschool_students_passing_math_and_reading/school_dataschool_students_passing_math_and_reading/school_dataschool_students_passing_math_and_reading/school_dataschool_students_passing_math_and_reading/school_dataschool_students_passing_math_and_reading/school_dataschool_students_passing_math_and_reading/school_dataschool_students_passing_math_and_reading/school_dataschool_students_passing_math_and_reading/school_data to numeric"
     ]
    }
   ],
   "source": [
    "# Group the per_school_summary DataFrame by \"School Type\" and average the results.\n",
    "average_math_score_by_type = per_school_summary.groupby([\"School Type\"])[\"Average Math Score\"].mean()\n",
    "average_reading_score_by_type = per_school_summary.groupby([\"School Type\"])[\"Average Reading Score\"].mean()\n",
    "average_percent_passing_math_by_type = per_school_summary.groupby([\"School Type\"])[\"% Students Passing Math\"].mean()\n",
    "average_percent_passing_reading_by_type = per_school_summary.groupby([\"School Type\"])[\"% Students Passing Reading\"].mean()\n",
    "average_percent_overall_passing_by_type = per_school_summary.groupby([\"School Type\"])[\"% Students Passing Both Math & Reading\"].mean()"
   ]
  },
  {
   "cell_type": "code",
   "execution_count": null,
   "metadata": {},
   "outputs": [],
   "source": [
    "# Assemble the new data by type into a DataFrame called `type_summary`\n",
    "type_summary = \n",
    "\n",
    "# Display results\n",
    "type_summary"
   ]
  },
  {
   "cell_type": "code",
   "execution_count": null,
   "metadata": {},
   "outputs": [],
   "source": []
  }
 ],
 "metadata": {
  "anaconda-cloud": {},
  "kernel_info": {
   "name": "python3"
  },
  "kernelspec": {
   "display_name": "Python 3 (ipykernel)",
   "language": "python",
   "name": "python3"
  },
  "language_info": {
   "codemirror_mode": {
    "name": "ipython",
    "version": 3
   },
   "file_extension": ".py",
   "mimetype": "text/x-python",
   "name": "python",
   "nbconvert_exporter": "python",
   "pygments_lexer": "ipython3",
   "version": "3.10.9"
  },
  "latex_envs": {
   "LaTeX_envs_menu_present": true,
   "autoclose": false,
   "autocomplete": true,
   "bibliofile": "biblio.bib",
   "cite_by": "apalike",
   "current_citInitial": 1,
   "eqLabelWithNumbers": true,
   "eqNumInitial": 1,
   "hotkeys": {
    "equation": "Ctrl-E",
    "itemize": "Ctrl-I"
   },
   "labels_anchors": false,
   "latex_user_defs": false,
   "report_style_numbering": false,
   "user_envs_cfg": false
  },
  "nteract": {
   "version": "0.8.4"
  },
  "vscode": {
   "interpreter": {
    "hash": "5384d77d82de63fd599f73e77f9ec786e7719288bf80a29ec0288c670ac3cf32"
   }
  }
 },
 "nbformat": 4,
 "nbformat_minor": 4
}
